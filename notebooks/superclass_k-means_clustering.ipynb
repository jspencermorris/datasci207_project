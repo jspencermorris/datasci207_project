{
 "cells": [
  {
   "cell_type": "code",
   "execution_count": null,
   "metadata": {},
   "outputs": [],
   "source": [
    "# import libraries\n",
    "\n",
    "import warnings\n",
    "import pandas as pd\n",
    "import numpy as np\n",
    "import matplotlib.pyplot as plt\n",
    "import seaborn as sns\n",
    "from sklearn.model_selection import train_test_split\n",
    "from sklearn.preprocessing import StandardScaler\n",
    "from sklearn.decomposition import PCA\n",
    "from sklearn.cluster import KMeans"
   ]
  },
  {
   "cell_type": "code",
   "execution_count": null,
   "metadata": {},
   "outputs": [],
   "source": [
    "# set display settings\n",
    "\n",
    "warnings.simplefilter(action='ignore', category=RuntimeWarning)\n",
    "pd.set_option(\"display.max_rows\", None)\n",
    "pd.set_option('display.max_columns', None)"
   ]
  },
  {
   "cell_type": "code",
   "execution_count": null,
   "metadata": {},
   "outputs": [],
   "source": [
    "# specify columns, datatypes, and load full consolidated sdss dataset\n",
    "\n",
    "# load column names from file into a list\n",
    "sdss_headers = pd.read_csv('../data/processed/sdss_full.csv.gz', compression='gzip', header=0, index_col=0, nrows=0).columns.tolist()\n",
    "\n",
    "# specify groups of primary columns\n",
    "object_identifiers = ['dr8objid']\n",
    "galaxy_identifiers = ['gz2_filenumber']\n",
    "object_locations = ['ra', 'dec']\n",
    "class_label_names = ['sdss_clean_class_name', 'stellar_subclass_MK', 'gz2_subclass_hubble']\n",
    "class_label_codes = ['sdss_clean_class_code', 'stellar_subclass_code', 'gz2_subclass_code']\n",
    "galaxy_binary_labels = [label for label in sdss_headers if 'flag' in label]\n",
    "galaxy_filters = ['petroR90_r_log']\n",
    "object_features = ['redshift_log', 'sum_p', 'u-r_p', 'g-i_p', 'r-z_p']\n",
    "star_features = ['elodie_color_index', 'elodie_temperature', 'elodie_metallicity']\n",
    "# consider adding galaxy features:  ratio of petro_radius to petro_brightness\n",
    "\n",
    "# create a datatype dictionary for object_identifiers\n",
    "col_dtypes = {col: 'string' for col in object_identifiers + galaxy_identifiers}\n",
    "\n",
    "# load full consolidated sdss dataset\n",
    "sdss_primary = pd.read_csv('../data/processed/sdss_primary.csv.gz', compression='gzip', header=0, dtype=col_dtypes)"
   ]
  },
  {
   "cell_type": "code",
   "execution_count": 168,
   "metadata": {},
   "outputs": [],
   "source": [
    "# create map between class label names and class label codes\n",
    "sdss_clean_class_map = dict(zip(sdss_primary[class_label_names[0]], sdss_primary[class_label_codes[0]]))\n",
    "stellar_subclass_map = dict(zip(sdss_primary[class_label_names[1]], sdss_primary[class_label_codes[1]]))\n",
    "gz2_subclass_map = dict(zip(sdss_primary[class_label_names[2]], sdss_primary[class_label_codes[2]]))\n",
    "class_code_maps = [sdss_clean_class_map, stellar_subclass_map, gz2_subclass_map]"
   ]
  },
  {
   "cell_type": "code",
   "execution_count": null,
   "metadata": {},
   "outputs": [],
   "source": [
    "# inspect the imported data\n",
    " \n",
    " # display some data\n",
    "display(sdss_primary.head(3))\n",
    "display(sdss_primary.tail(3))\n",
    "display(sdss_primary.sample(10))\n",
    " \n",
    "# inspect dataframe\n",
    "print(sdss_primary.shape)\n",
    "print(sdss_primary.info())"
   ]
  },
  {
   "cell_type": "code",
   "execution_count": null,
   "metadata": {},
   "outputs": [],
   "source": [
    "# investigate superclasses & simplified subclasses (categorical labels)\n",
    "\n",
    "# create a helper function for investigating and plotting a subset from a column w/ categorical data\n",
    "def investigate_clean_classes(df, column, filter=None):\n",
    "    data = df[column]\n",
    "    if filter:\n",
    "        data = df[df['sdss_clean_class_name'] == filter][column]\n",
    "    unclassified_count = data.isna().sum() + (data == 'unclassified').sum() + (data == 'unkonwn').sum()\n",
    "    print(f\"\\n---------- {column} : {filter} ----------\")\n",
    "    print(f\"The number of rows with classified values is: {len(data) - unclassified_count}\")\n",
    "    print(f\"The number of unique labels is: {len(df[column].unique())}\")\n",
    "    data2 = data[data != 'unclassified']\n",
    "    data2 = data2[data2 != 'unknown']\n",
    "    plt.figure(figsize=(3, 2))\n",
    "    sns.countplot(y=data2, order=data2.value_counts().index[:15], palette='viridis')\n",
    "    #plt.suptitle(f\"{column = }\")\n",
    "    #plt.tight_layout()\n",
    "    plt.show()\n",
    "\n",
    "investigate_clean_classes(sdss_primary, 'sdss_clean_class_name')\n",
    "investigate_clean_classes(sdss_primary, 'gz2_subclass_hubble', 'galaxy')\n",
    "investigate_clean_classes(sdss_primary, 'stellar_subclass_MK', 'star')"
   ]
  },
  {
   "cell_type": "code",
   "execution_count": null,
   "metadata": {},
   "outputs": [],
   "source": [
    "# investigate histograms of feature columns, color-shaded by superclass\n",
    "\n",
    "# generate a subset dataframe\n",
    "df = sdss_primary[['sdss_clean_class_name'] + object_features + star_features]\n",
    "df = df.sample(frac=0.5)\n",
    "\n",
    "# define classes\n",
    "classes = sdss_primary['sdss_clean_class_name'].unique()\n",
    "\n",
    "# set a color palette with distinct colors for each category\n",
    "colors = sns.color_palette('bright', n_colors=len(df['sdss_clean_class_name'].unique()))\n",
    "\n",
    "# iterate over columns and create separate plots\n",
    "for col in object_features + star_features:\n",
    "    plt.figure(figsize=(3, 2))\n",
    "    plt.xscale('linear')\n",
    "    log_choice = False\n",
    "    denom = df[col].min()\n",
    "    if denom == 0:\n",
    "        denom = 0.001\n",
    "    if abs(df[col].max() / denom) > 50:\n",
    "        df[col] = df[col].replace(0, 0.001)\n",
    "        log_choice = True\n",
    "        plt.xscale('symlog')  \n",
    "    for class_label, color in zip(classes, colors):\n",
    "        if 'elodie' in col:\n",
    "            if class_label == 'star':\n",
    "                sns.histplot(df[df['sdss_clean_class_name'] == class_label][col], bins=25, label=class_label, log_scale=log_choice)\n",
    "        else:\n",
    "            sns.histplot(df[df['sdss_clean_class_name'] == class_label][col], bins=25, label=class_label, log_scale=log_choice)\n",
    "    plt.title(col)\n",
    "    plt.legend()\n",
    "    plt.show()"
   ]
  },
  {
   "cell_type": "code",
   "execution_count": 166,
   "metadata": {},
   "outputs": [],
   "source": [
    "# split dataset into train/test/validation subsets and store column names\n",
    "\n",
    "X0, X_test, y0, y_test = train_test_split(sdss_primary[object_features], sdss_primary[class_label_codes], test_size = 0.2) #, stratify = sdss_primary[class_label_codes])\n",
    "X_train, X_val, y_train, y_val = train_test_split(X0, y0, test_size = 0.25)\n",
    "X_cols = X_train.columns.tolist()\n",
    "y_cols = y_train.columns.tolist()"
   ]
  },
  {
   "cell_type": "code",
   "execution_count": 159,
   "metadata": {},
   "outputs": [],
   "source": [
    "# transform the data\n",
    "\n",
    "# transform he data - apply z-standardization\n",
    "scaler = StandardScaler()\n",
    "X_train = scaler.fit_transform(X_train)"
   ]
  },
  {
   "cell_type": "code",
   "execution_count": 133,
   "metadata": {},
   "outputs": [],
   "source": [
    "# manually set weights to each object feature\n",
    "# NOTE: the weights are determined from physical reasons (i.e. the first feature is from the spectroscopic detector and the other4 features are from the photometric detector)\n",
    "\n",
    "# specify scalar values and create transformed feature dataset\n",
    "scalar_values = [0.5, 0.5/4, 0.5/4, 0.5/4, 0.5/4]\n",
    "X_weighted = X_train[:, :] * scalar_values"
   ]
  },
  {
   "cell_type": "code",
   "execution_count": null,
   "metadata": {},
   "outputs": [],
   "source": []
  },
  {
   "cell_type": "code",
   "execution_count": 122,
   "metadata": {},
   "outputs": [
    {
     "data": {
      "image/png": "[encoded data removed]",
      "text/plain": [
       "<Figure size 300x200 with 1 Axes>"
      ]
     },
     "metadata": {},
     "output_type": "display_data"
    },
    {
     "data": {
      "image/png": "[encoded data removed]",
      "text/plain": [
       "<Figure size 300x200 with 1 Axes>"
      ]
     },
     "metadata": {},
     "output_type": "display_data"
    },
    {
     "data": {
      "image/png": "[encoded data removed]",
      "text/plain": [
       "<Figure size 300x200 with 1 Axes>"
      ]
     },
     "metadata": {},
     "output_type": "display_data"
    },
    {
     "data": {
      "text/html": [
       "<div>\n",
       "<style scoped>\n",
       "    .dataframe tbody tr th:only-of-type {\n",
       "        vertical-align: middle;\n",
       "    }\n",
       "\n",
       "    .dataframe tbody tr th {\n",
       "        vertical-align: top;\n",
       "    }\n",
       "\n",
       "    .dataframe thead th {\n",
       "        text-align: right;\n",
       "    }\n",
       "</style>\n",
       "<table border=\"1\" class=\"dataframe\">\n",
       "  <thead>\n",
       "    <tr style=\"text-align: right;\">\n",
       "      <th></th>\n",
       "      <th>PC1</th>\n",
       "      <th>PC2</th>\n",
       "      <th>sdss_clean_class_code</th>\n",
       "    </tr>\n",
       "  </thead>\n",
       "  <tbody>\n",
       "    <tr>\n",
       "      <th>387317</th>\n",
       "      <td>1.394242</td>\n",
       "      <td>-0.338515</td>\n",
       "      <td>0</td>\n",
       "    </tr>\n",
       "    <tr>\n",
       "      <th>651978</th>\n",
       "      <td>-1.279454</td>\n",
       "      <td>1.038460</td>\n",
       "      <td>2</td>\n",
       "    </tr>\n",
       "    <tr>\n",
       "      <th>558081</th>\n",
       "      <td>1.104269</td>\n",
       "      <td>-0.017193</td>\n",
       "      <td>0</td>\n",
       "    </tr>\n",
       "    <tr>\n",
       "      <th>218405</th>\n",
       "      <td>1.113589</td>\n",
       "      <td>0.656488</td>\n",
       "      <td>0</td>\n",
       "    </tr>\n",
       "    <tr>\n",
       "      <th>331331</th>\n",
       "      <td>0.444592</td>\n",
       "      <td>0.586543</td>\n",
       "      <td>0</td>\n",
       "    </tr>\n",
       "  </tbody>\n",
       "</table>\n",
       "</div>"
      ],
      "text/plain": [
       "             PC1       PC2  sdss_clean_class_code\n",
       "387317  1.394242 -0.338515                      0\n",
       "651978 -1.279454  1.038460                      2\n",
       "558081  1.104269 -0.017193                      0\n",
       "218405  1.113589  0.656488                      0\n",
       "331331  0.444592  0.586543                      0"
      ]
     },
     "metadata": {},
     "output_type": "display_data"
    },
    {
     "name": "stderr",
     "output_type": "stream",
     "text": [
      "/tmp/ipykernel_2419/145451515.py:56: UserWarning: No data for colormapping provided via 'c'. Parameters 'cmap' will be ignored\n",
      "  plt.scatter(class_data['PC1'], class_data['PC2'], label=f'Class {class_code}', cmap='viridis', s=1, alpha=0.5)\n"
     ]
    },
    {
     "data": {
      "image/png": "[encoded data removed]",
      "text/plain": [
       "<Figure size 400x300 with 1 Axes>"
      ]
     },
     "metadata": {},
     "output_type": "display_data"
    }
   ],
   "source": [
    "# principal component analysis\n",
    "\n",
    "# fit the object_identifiers to a PCA model\n",
    "pca = PCA().fit(X_train)\n",
    "\n",
    "# plot the cumulative variance by # of principal components\n",
    "# NOTE: the first PC already explaines ~80% of the total variance in the dataset\n",
    "plt.figure(figsize=(3,2))\n",
    "plt.plot(pca.explained_variance_ratio_.cumsum())\n",
    "plt.show()\n",
    "\n",
    "# evaluate the PCA loadings\n",
    "loadings = pd.DataFrame(\n",
    "    data=pca.components_.T * np.sqrt(pca.explained_variance_ratio_), \n",
    "    columns=[f'PC{i}' for i in range(1, len(object_features) + 1)],\n",
    "    index=object_features\n",
    ")\n",
    "loadings.head()\n",
    "\n",
    "# visualize correlations between first PC and object_features\n",
    "pc1_loadings = loadings.sort_values(by='PC1', ascending=False)[['PC1']]\n",
    "pc1_loadings = pc1_loadings.reset_index()\n",
    "pc1_loadings.columns = ['Attribute', 'CorrelationWithPC1']\n",
    "plt.figure(figsize=(3,2))\n",
    "plt.bar(x=pc1_loadings['Attribute'], height=pc1_loadings['CorrelationWithPC1'], color='#087E8B')\n",
    "plt.title('PCA loading scores (first principal component)', size=12)\n",
    "plt.xticks(rotation='vertical')\n",
    "plt.show()\n",
    "\n",
    "# visualize correlations between first PC and object_features\n",
    "pc1_loadings = loadings.sort_values(by='PC2', ascending=False)[['PC2']]\n",
    "pc1_loadings = pc1_loadings.reset_index()\n",
    "pc1_loadings.columns = ['Attribute', 'CorrelationWithPC1']\n",
    "plt.figure(figsize=(3,2))\n",
    "plt.bar(x=pc1_loadings['Attribute'], height=pc1_loadings['CorrelationWithPC1'], color='#087E8B')\n",
    "plt.title('PCA loading scores (second principal component)', size=12)\n",
    "plt.xticks(rotation='vertical')\n",
    "plt.show()\n",
    "\n",
    "# fiting the object_identifiers to a PCA model w/ 2 PC's\n",
    "X_pca = PCA(n_components=2).fit_transform(X_train)\n",
    "\n",
    "# make a dataframe to store PC features and label\n",
    "temp1 = pd.DataFrame(data=X_pca, columns=['PC1','PC2'])\n",
    "temp1.reset_index(drop=True, inplace=True)\n",
    "temp2 = y_train[[class_label_codes[0]]]\n",
    "temp2.reset_index(drop=True, inplace=True)\n",
    "pca_df = pd.concat([temp1, temp2], axis=1)\n",
    "display(pca_df.sample(5))\n",
    "\n",
    "# generate a scatterplot of the first two PC's\n",
    "pca_df = pca_df.sample(frac=0.1)\n",
    "plt.figure(figsize=(4,3))\n",
    "for class_code in pca_df[class_label_codes[0]].unique():\n",
    "    class_data = pca_df[pca_df[class_label_codes[0]] == class_code]\n",
    "    plt.scatter(class_data['PC1'], class_data['PC2'], label=f'Class {class_code}', cmap='viridis', s=1, alpha=0.5)\n",
    "plt.legend()\n",
    "plt.show()"
   ]
  },
  {
   "cell_type": "code",
   "execution_count": null,
   "metadata": {},
   "outputs": [],
   "source": []
  },
  {
   "cell_type": "code",
   "execution_count": null,
   "metadata": {},
   "outputs": [],
   "source": []
  },
  {
   "cell_type": "code",
   "execution_count": null,
   "metadata": {},
   "outputs": [],
   "source": []
  },
  {
   "cell_type": "code",
   "execution_count": null,
   "metadata": {},
   "outputs": [],
   "source": []
  },
  {
   "cell_type": "code",
   "execution_count": null,
   "metadata": {},
   "outputs": [],
   "source": [
    "# perform hierarchical clustering on a distance matrix\n",
    "\n",
    "from sklearn.cluster import AgglomerativeClustering\n",
    "\n",
    "# define the model's functional form\n",
    "def fit_agglomeration(X, n_clusters):\n",
    "    model = AgglomerativeClustering(\n",
    "        n_clusters = n_clusters,\n",
    "        linkage = 'ward'\n",
    "    )\n",
    "    model.fit(X)\n",
    "    return model\n",
    "\n",
    "# specify the number of clusters\n",
    "# NOTE: clusters will be assigned numbers 0, 1, 2\n",
    "n_clusters = len(y_train['sdss_clean_class_name'].unique())\n",
    "\n",
    "# generate the model\n",
    "model = fit_agglomeration(X_train, n_clusters)\n",
    "\n",
    "# get predictions & add them to the dataframe\n",
    "sdss_primary['superclass_hierarchical_cluster'] = model.predict(X_train)"
   ]
  },
  {
   "cell_type": "code",
   "execution_count": null,
   "metadata": {},
   "outputs": [],
   "source": [
    "# perform hierarchical clustering on a distance matrix\n",
    "\n",
    "from sklearn.cluster import FeatureAgglomeration\n",
    "\n",
    "# define the model's functional form\n",
    "def fit_agglomeration(X, n_clusters):\n",
    "    model = FeatureAgglomeration(\n",
    "        n_clusters = n_clusters,\n",
    "        linkage = 'ward'\n",
    "    )\n",
    "    model.fit(X)\n",
    "    return model\n",
    "\n",
    "# specify the number of clusters\n",
    "# NOTE: clusters will be assigned numbers 0, 1, 2\n",
    "n_clusters = len(y_train['sdss_clean_class_name'].unique())\n",
    "\n",
    "# generate the model\n",
    "model = fit_agglomeration(X_train, n_clusters)\n",
    "\n",
    "# get predictions & add them to the dataframe\n",
    "#sdss_primary['superclass_hierarchical_cluster'] = model.predict(X_train)"
   ]
  },
  {
   "cell_type": "code",
   "execution_count": null,
   "metadata": {},
   "outputs": [],
   "source": [
    "# consult the notebook '07 decision trees'"
   ]
  },
  {
   "cell_type": "code",
   "execution_count": null,
   "metadata": {},
   "outputs": [],
   "source": []
  },
  {
   "cell_type": "code",
   "execution_count": null,
   "metadata": {},
   "outputs": [],
   "source": []
  },
  {
   "cell_type": "code",
   "execution_count": null,
   "metadata": {},
   "outputs": [],
   "source": []
  },
  {
   "cell_type": "code",
   "execution_count": null,
   "metadata": {},
   "outputs": [],
   "source": []
  },
  {
   "cell_type": "code",
   "execution_count": null,
   "metadata": {},
   "outputs": [],
   "source": []
  },
  {
   "cell_type": "code",
   "execution_count": 131,
   "metadata": {},
   "outputs": [
    {
     "name": "stdout",
     "output_type": "stream",
     "text": [
      "[[-0.07665797 -0.76817204  0.62784381  0.4137103   0.32235379]\n",
      " [ 0.11519304 -0.93954881 -0.4387842  -0.22887753 -0.0179576 ]\n",
      " [ 0.29188348 -0.10234231  0.68094696  0.46032093  0.29992326]\n",
      " [ 0.03863816 -0.47153947 -0.69714725 -0.62169791 -0.40565665]]\n"
     ]
    },
    {
     "data": {
      "text/plain": [
       "None"
      ]
     },
     "metadata": {},
     "output_type": "display_data"
    }
   ],
   "source": [
    "display(print(X_train[0:4,:]))"
   ]
  },
  {
   "cell_type": "code",
   "execution_count": 125,
   "metadata": {},
   "outputs": [],
   "source": [
    "# define a helper function to generate a k-means clustering model\n",
    "\n",
    "# define the model's functional form\n",
    "def fit_kmeans(X, n_clusters):\n",
    "    model = KMeans(\n",
    "        n_clusters = n_clusters,\n",
    "        init = 'k-means++',\n",
    "        n_init = 10,\n",
    "        max_iter = 300,\n",
    "        tol = 1e-04,\n",
    "        random_state=0\n",
    "    )\n",
    "    model.fit(X)\n",
    "    return model"
   ]
  },
  {
   "cell_type": "code",
   "execution_count": null,
   "metadata": {},
   "outputs": [],
   "source": [
    "# create a k-means model with 3 clusters (same as number of known superclasses)\n",
    "\n",
    "# specify the number of clusters\n",
    "# NOTE: clusters will be assigned numbers 0, 1, 2\n",
    "n_clusters = len(sdss_primary['sdss_clean_class_name'].unique())\n",
    "\n",
    "# generate the model and get predictions, based on only redshift_log\n",
    "model = fit_kmeans(X_train[:,0], n_clusters)\n",
    "#y_train_0_superclass_kmeans = model.predict(X_train[:,0])\n",
    "\n"
   ]
  },
  {
   "cell_type": "code",
   "execution_count": null,
   "metadata": {},
   "outputs": [],
   "source": [
    "# visualize results of the model\n",
    "\n",
    "# display some data\n",
    "display(sdss_primary[['sdss_clean_class_name', 'superclass_k-means_cluster']].sample(10))\n",
    "\n",
    "# create a helper function to evaluate accuracy\n",
    "def evaluate_cluster_accuracy(X, y):\n",
    "    for label in sdss_primary['sdss_clean_class_name'].unique().tolist():\n",
    "        print(f\"---- {label} ----\")\n",
    "        num_objects = len(sdss_primary[sdss_primary['sdss_clean_class_name'] == label])\n",
    "        for n in range(n_clusters):\n",
    "            num_matches = len(sdss_primary[(sdss_primary['sdss_clean_class_name'] == label) & (sdss_primary['superclass_k-means_cluster'] == n)])\n",
    "            print(f\"\\t% assigned to cluster {n}: {num_matches / num_objects}\")\n",
    "        \n",
    "# inspect clustering accuracy\n",
    "evaluate_cluster_accuracy(3)\n",
    "\n",
    "# print histogram of cluster counts\n",
    "counts = sdss_primary.groupby(['sdss_clean_class_name', 'superclass_k-means_cluster']).size().reset_index(name='count')\n",
    "pivot_table = counts.pivot_table(index='superclass_k-means_cluster', columns='sdss_clean_class_name', values='count', fill_value=0)\n",
    "sns.set(rc={'figure.figsize':(6,3)})\n",
    "ax = pivot_table.plot(kind='bar', stacked=True, colormap='viridis')\n",
    "ax.legend(title='k-means cluster', loc='upper right')\n",
    "\n",
    "# "
   ]
  },
  {
   "cell_type": "code",
   "execution_count": 193,
   "metadata": {},
   "outputs": [
    {
     "name": "stdout",
     "output_type": "stream",
     "text": [
      "<class 'pandas.core.frame.DataFrame'>\n"
     ]
    },
    {
     "ename": "InvalidIndexError",
     "evalue": "(slice(None, None, None), 0)",
     "output_type": "error",
     "traceback": [
      "\u001b[0;31m---------------------------------------------------------------------------\u001b[0m",
      "\u001b[0;31mTypeError\u001b[0m                                 Traceback (most recent call last)",
      "File \u001b[0;32m~/anaconda3/envs/v_207a/lib/python3.10/site-packages/pandas/core/indexes/base.py:3653\u001b[0m, in \u001b[0;36mIndex.get_loc\u001b[0;34m(self, key)\u001b[0m\n\u001b[1;32m   3652\u001b[0m \u001b[39mtry\u001b[39;00m:\n\u001b[0;32m-> 3653\u001b[0m     \u001b[39mreturn\u001b[39;00m \u001b[39mself\u001b[39;49m\u001b[39m.\u001b[39;49m_engine\u001b[39m.\u001b[39;49mget_loc(casted_key)\n\u001b[1;32m   3654\u001b[0m \u001b[39mexcept\u001b[39;00m \u001b[39mKeyError\u001b[39;00m \u001b[39mas\u001b[39;00m err:\n",
      "File \u001b[0;32m~/anaconda3/envs/v_207a/lib/python3.10/site-packages/pandas/_libs/index.pyx:147\u001b[0m, in \u001b[0;36mpandas._libs.index.IndexEngine.get_loc\u001b[0;34m()\u001b[0m\n",
      "File \u001b[0;32m~/anaconda3/envs/v_207a/lib/python3.10/site-packages/pandas/_libs/index.pyx:153\u001b[0m, in \u001b[0;36mpandas._libs.index.IndexEngine.get_loc\u001b[0;34m()\u001b[0m\n",
      "\u001b[0;31mTypeError\u001b[0m: '(slice(None, None, None), 0)' is an invalid key",
      "\nDuring handling of the above exception, another exception occurred:\n",
      "\u001b[0;31mInvalidIndexError\u001b[0m                         Traceback (most recent call last)",
      "\u001b[1;32m/home/jspencermorris/Desktop/datasci207/datasci207_project/notebooks/superclass_k-means_clustering.ipynb Cell 29\u001b[0m line \u001b[0;36m2\n\u001b[1;32m      <a href='vscode-notebook-cell://wsl%2Bubuntu/home/jspencermorris/Desktop/datasci207/datasci207_project/notebooks/superclass_k-means_clustering.ipynb#X52sdnNjb2RlLXJlbW90ZQ%3D%3D?line=0'>1</a>\u001b[0m \u001b[39mprint\u001b[39m(\u001b[39mtype\u001b[39m(y_train))\n\u001b[0;32m----> <a href='vscode-notebook-cell://wsl%2Bubuntu/home/jspencermorris/Desktop/datasci207/datasci207_project/notebooks/superclass_k-means_clustering.ipynb#X52sdnNjb2RlLXJlbW90ZQ%3D%3D?line=1'>2</a>\u001b[0m \u001b[39mprint\u001b[39m(y_train[:,\u001b[39m0\u001b[39;49m]\u001b[39m.\u001b[39mshape)\n",
      "File \u001b[0;32m~/anaconda3/envs/v_207a/lib/python3.10/site-packages/pandas/core/frame.py:3761\u001b[0m, in \u001b[0;36mDataFrame.__getitem__\u001b[0;34m(self, key)\u001b[0m\n\u001b[1;32m   3759\u001b[0m \u001b[39mif\u001b[39;00m \u001b[39mself\u001b[39m\u001b[39m.\u001b[39mcolumns\u001b[39m.\u001b[39mnlevels \u001b[39m>\u001b[39m \u001b[39m1\u001b[39m:\n\u001b[1;32m   3760\u001b[0m     \u001b[39mreturn\u001b[39;00m \u001b[39mself\u001b[39m\u001b[39m.\u001b[39m_getitem_multilevel(key)\n\u001b[0;32m-> 3761\u001b[0m indexer \u001b[39m=\u001b[39m \u001b[39mself\u001b[39;49m\u001b[39m.\u001b[39;49mcolumns\u001b[39m.\u001b[39;49mget_loc(key)\n\u001b[1;32m   3762\u001b[0m \u001b[39mif\u001b[39;00m is_integer(indexer):\n\u001b[1;32m   3763\u001b[0m     indexer \u001b[39m=\u001b[39m [indexer]\n",
      "File \u001b[0;32m~/anaconda3/envs/v_207a/lib/python3.10/site-packages/pandas/core/indexes/base.py:3660\u001b[0m, in \u001b[0;36mIndex.get_loc\u001b[0;34m(self, key)\u001b[0m\n\u001b[1;32m   3655\u001b[0m     \u001b[39mraise\u001b[39;00m \u001b[39mKeyError\u001b[39;00m(key) \u001b[39mfrom\u001b[39;00m \u001b[39merr\u001b[39;00m\n\u001b[1;32m   3656\u001b[0m \u001b[39mexcept\u001b[39;00m \u001b[39mTypeError\u001b[39;00m:\n\u001b[1;32m   3657\u001b[0m     \u001b[39m# If we have a listlike key, _check_indexing_error will raise\u001b[39;00m\n\u001b[1;32m   3658\u001b[0m     \u001b[39m#  InvalidIndexError. Otherwise we fall through and re-raise\u001b[39;00m\n\u001b[1;32m   3659\u001b[0m     \u001b[39m#  the TypeError.\u001b[39;00m\n\u001b[0;32m-> 3660\u001b[0m     \u001b[39mself\u001b[39;49m\u001b[39m.\u001b[39;49m_check_indexing_error(key)\n\u001b[1;32m   3661\u001b[0m     \u001b[39mraise\u001b[39;00m\n",
      "File \u001b[0;32m~/anaconda3/envs/v_207a/lib/python3.10/site-packages/pandas/core/indexes/base.py:5737\u001b[0m, in \u001b[0;36mIndex._check_indexing_error\u001b[0;34m(self, key)\u001b[0m\n\u001b[1;32m   5733\u001b[0m \u001b[39mdef\u001b[39;00m \u001b[39m_check_indexing_error\u001b[39m(\u001b[39mself\u001b[39m, key):\n\u001b[1;32m   5734\u001b[0m     \u001b[39mif\u001b[39;00m \u001b[39mnot\u001b[39;00m is_scalar(key):\n\u001b[1;32m   5735\u001b[0m         \u001b[39m# if key is not a scalar, directly raise an error (the code below\u001b[39;00m\n\u001b[1;32m   5736\u001b[0m         \u001b[39m# would convert to numpy arrays and raise later any way) - GH29926\u001b[39;00m\n\u001b[0;32m-> 5737\u001b[0m         \u001b[39mraise\u001b[39;00m InvalidIndexError(key)\n",
      "\u001b[0;31mInvalidIndexError\u001b[0m: (slice(None, None, None), 0)"
     ]
    }
   ],
   "source": [
    "print(type(y_train))\n",
    "print(y_train[:,0].shape)"
   ]
  },
  {
   "cell_type": "code",
   "execution_count": 179,
   "metadata": {},
   "outputs": [
    {
     "name": "stdout",
     "output_type": "stream",
     "text": [
      "[]\n"
     ]
    },
    {
     "name": "stderr",
     "output_type": "stream",
     "text": [
      "/tmp/ipykernel_2419/1233199278.py:11: FutureWarning: elementwise comparison failed; returning scalar instead, but in the future will perform elementwise comparison\n",
      "  mapped_array = [key for value, key in mapping_dict.items() if value in original_array]\n"
     ]
    }
   ],
   "source": [
    "df = pd.DataFrame({'A': ['a', 'b', 'c', 'a', 'b', 'c'],\n",
    "                   'B': [1, 2, 3, 1, 2, 3]})\n",
    "\n",
    "# Create a dictionary mapping values of A to B\n",
    "mapping_dict = dict(zip(df['A'], df['B']))\n",
    "\n",
    "# Your original ndarray\n",
    "original_array = np.array([1, 2, 1, 2, 3])\n",
    "\n",
    "# Map values using the dictionary\n",
    "mapped_array = [key for value, key in mapping_dict.items() if value in original_array]\n",
    "\n",
    "print(mapped_array)"
   ]
  },
  {
   "cell_type": "code",
   "execution_count": 194,
   "metadata": {},
   "outputs": [
    {
     "ename": "TypeError",
     "evalue": "Passing a dict as an indexer is not supported. Use a list instead.",
     "output_type": "error",
     "traceback": [
      "\u001b[0;31m---------------------------------------------------------------------------\u001b[0m",
      "\u001b[0;31mTypeError\u001b[0m                                 Traceback (most recent call last)",
      "\u001b[1;32m/home/jspencermorris/Desktop/datasci207/datasci207_project/notebooks/superclass_k-means_clustering.ipynb Cell 31\u001b[0m line \u001b[0;36m5\n\u001b[1;32m     <a href='vscode-notebook-cell://wsl%2Bubuntu/home/jspencermorris/Desktop/datasci207/datasci207_project/notebooks/superclass_k-means_clustering.ipynb#X53sdnNjb2RlLXJlbW90ZQ%3D%3D?line=44'>45</a>\u001b[0m \u001b[39m    \u001b[39m\u001b[39m\"\"\"for label in sdss_primary[y_col].unique().tolist():\u001b[39;00m\n\u001b[1;32m     <a href='vscode-notebook-cell://wsl%2Bubuntu/home/jspencermorris/Desktop/datasci207/datasci207_project/notebooks/superclass_k-means_clustering.ipynb#X53sdnNjb2RlLXJlbW90ZQ%3D%3D?line=45'>46</a>\u001b[0m \u001b[39m        print(f\"---- {label} ----\")\u001b[39;00m\n\u001b[1;32m     <a href='vscode-notebook-cell://wsl%2Bubuntu/home/jspencermorris/Desktop/datasci207/datasci207_project/notebooks/superclass_k-means_clustering.ipynb#X53sdnNjb2RlLXJlbW90ZQ%3D%3D?line=46'>47</a>\u001b[0m \u001b[39m        num_objects = len(sdss_primary[sdss_primary[y_col] == label])\u001b[39;00m\n\u001b[1;32m     <a href='vscode-notebook-cell://wsl%2Bubuntu/home/jspencermorris/Desktop/datasci207/datasci207_project/notebooks/superclass_k-means_clustering.ipynb#X53sdnNjb2RlLXJlbW90ZQ%3D%3D?line=47'>48</a>\u001b[0m \u001b[39m        for n in range(n_clusters):\u001b[39;00m\n\u001b[1;32m     <a href='vscode-notebook-cell://wsl%2Bubuntu/home/jspencermorris/Desktop/datasci207/datasci207_project/notebooks/superclass_k-means_clustering.ipynb#X53sdnNjb2RlLXJlbW90ZQ%3D%3D?line=48'>49</a>\u001b[0m \u001b[39m            num_matches = len(sdss_primary[(sdss_primary['sdss_clean_class_name'] == label) & (sdss_primary['superclass_k-means_cluster'] == n)])\u001b[39;00m\n\u001b[1;32m     <a href='vscode-notebook-cell://wsl%2Bubuntu/home/jspencermorris/Desktop/datasci207/datasci207_project/notebooks/superclass_k-means_clustering.ipynb#X53sdnNjb2RlLXJlbW90ZQ%3D%3D?line=49'>50</a>\u001b[0m \u001b[39m            print(f\"\\t% assigned to cluster {n}: {num_matches / num_objects}\")\"\"\"\u001b[39;00m\n\u001b[1;32m     <a href='vscode-notebook-cell://wsl%2Bubuntu/home/jspencermorris/Desktop/datasci207/datasci207_project/notebooks/superclass_k-means_clustering.ipynb#X53sdnNjb2RlLXJlbW90ZQ%3D%3D?line=51'>52</a>\u001b[0m \u001b[39m# inspect clustering accuracy\u001b[39;00m\n\u001b[0;32m---> <a href='vscode-notebook-cell://wsl%2Bubuntu/home/jspencermorris/Desktop/datasci207/datasci207_project/notebooks/superclass_k-means_clustering.ipynb#X53sdnNjb2RlLXJlbW90ZQ%3D%3D?line=52'>53</a>\u001b[0m evaluate_cluster_accuracy(X_train, X_cols, y_train[class_code_maps[\u001b[39m0\u001b[39;49m]], \u001b[39m3\u001b[39m)\n\u001b[1;32m     <a href='vscode-notebook-cell://wsl%2Bubuntu/home/jspencermorris/Desktop/datasci207/datasci207_project/notebooks/superclass_k-means_clustering.ipynb#X53sdnNjb2RlLXJlbW90ZQ%3D%3D?line=54'>55</a>\u001b[0m \u001b[39m# print histogram of cluster counts\u001b[39;00m\n\u001b[1;32m     <a href='vscode-notebook-cell://wsl%2Bubuntu/home/jspencermorris/Desktop/datasci207/datasci207_project/notebooks/superclass_k-means_clustering.ipynb#X53sdnNjb2RlLXJlbW90ZQ%3D%3D?line=55'>56</a>\u001b[0m \u001b[39m\"\"\"counts = sdss_primary.groupby(['sdss_clean_class_name', 'superclass_k-means_cluster']).size().reset_index(name='count')\u001b[39;00m\n\u001b[1;32m     <a href='vscode-notebook-cell://wsl%2Bubuntu/home/jspencermorris/Desktop/datasci207/datasci207_project/notebooks/superclass_k-means_clustering.ipynb#X53sdnNjb2RlLXJlbW90ZQ%3D%3D?line=56'>57</a>\u001b[0m \u001b[39mpivot_table = counts.pivot_table(index='superclass_k-means_cluster', columns='sdss_clean_class_name', values='count', fill_value=0)\u001b[39;00m\n\u001b[1;32m     <a href='vscode-notebook-cell://wsl%2Bubuntu/home/jspencermorris/Desktop/datasci207/datasci207_project/notebooks/superclass_k-means_clustering.ipynb#X53sdnNjb2RlLXJlbW90ZQ%3D%3D?line=57'>58</a>\u001b[0m \u001b[39msns.set(rc={'figure.figsize':(6,3)})\u001b[39;00m\n\u001b[1;32m     <a href='vscode-notebook-cell://wsl%2Bubuntu/home/jspencermorris/Desktop/datasci207/datasci207_project/notebooks/superclass_k-means_clustering.ipynb#X53sdnNjb2RlLXJlbW90ZQ%3D%3D?line=58'>59</a>\u001b[0m \u001b[39max = pivot_table.plot(kind='bar', stacked=True, colormap='viridis')\u001b[39;00m\n\u001b[1;32m     <a href='vscode-notebook-cell://wsl%2Bubuntu/home/jspencermorris/Desktop/datasci207/datasci207_project/notebooks/superclass_k-means_clustering.ipynb#X53sdnNjb2RlLXJlbW90ZQ%3D%3D?line=59'>60</a>\u001b[0m \u001b[39max.legend(title='k-means cluster', loc='upper right')\"\"\"\u001b[39;00m\n",
      "File \u001b[0;32m~/anaconda3/envs/v_207a/lib/python3.10/site-packages/pandas/core/frame.py:3714\u001b[0m, in \u001b[0;36mDataFrame.__getitem__\u001b[0;34m(self, key)\u001b[0m\n\u001b[1;32m   3713\u001b[0m \u001b[39mdef\u001b[39;00m \u001b[39m__getitem__\u001b[39m(\u001b[39mself\u001b[39m, key):\n\u001b[0;32m-> 3714\u001b[0m     check_dict_or_set_indexers(key)\n\u001b[1;32m   3715\u001b[0m     key \u001b[39m=\u001b[39m lib\u001b[39m.\u001b[39mitem_from_zerodim(key)\n\u001b[1;32m   3716\u001b[0m     key \u001b[39m=\u001b[39m com\u001b[39m.\u001b[39mapply_if_callable(key, \u001b[39mself\u001b[39m)\n",
      "File \u001b[0;32m~/anaconda3/envs/v_207a/lib/python3.10/site-packages/pandas/core/indexing.py:2627\u001b[0m, in \u001b[0;36mcheck_dict_or_set_indexers\u001b[0;34m(key)\u001b[0m\n\u001b[1;32m   2618\u001b[0m     \u001b[39mraise\u001b[39;00m \u001b[39mTypeError\u001b[39;00m(\n\u001b[1;32m   2619\u001b[0m         \u001b[39m\"\u001b[39m\u001b[39mPassing a set as an indexer is not supported. Use a list instead.\u001b[39m\u001b[39m\"\u001b[39m\n\u001b[1;32m   2620\u001b[0m     )\n\u001b[1;32m   2622\u001b[0m \u001b[39mif\u001b[39;00m (\n\u001b[1;32m   2623\u001b[0m     \u001b[39misinstance\u001b[39m(key, \u001b[39mdict\u001b[39m)\n\u001b[1;32m   2624\u001b[0m     \u001b[39mor\u001b[39;00m \u001b[39misinstance\u001b[39m(key, \u001b[39mtuple\u001b[39m)\n\u001b[1;32m   2625\u001b[0m     \u001b[39mand\u001b[39;00m \u001b[39many\u001b[39m(\u001b[39misinstance\u001b[39m(x, \u001b[39mdict\u001b[39m) \u001b[39mfor\u001b[39;00m x \u001b[39min\u001b[39;00m key)\n\u001b[1;32m   2626\u001b[0m ):\n\u001b[0;32m-> 2627\u001b[0m     \u001b[39mraise\u001b[39;00m \u001b[39mTypeError\u001b[39;00m(\n\u001b[1;32m   2628\u001b[0m         \u001b[39m\"\u001b[39m\u001b[39mPassing a dict as an indexer is not supported. Use a list instead.\u001b[39m\u001b[39m\"\u001b[39m\n\u001b[1;32m   2629\u001b[0m     )\n",
      "\u001b[0;31mTypeError\u001b[0m: Passing a dict as an indexer is not supported. Use a list instead."
     ]
    }
   ],
   "source": [
    "\n",
    "# define the model's functional form\n",
    "def fit_kmeans(X, n_clusters):\n",
    "    model = KMeans(\n",
    "        n_clusters = n_clusters,\n",
    "        init = 'k-means++',\n",
    "        n_init = 10,\n",
    "        max_iter = 300,\n",
    "        tol = 1e-04,\n",
    "        random_state=0\n",
    "    )\n",
    "    model.fit(X)\n",
    "    return model\n",
    "\n",
    "# specify the number of clusters\n",
    "# NOTE: clusters will be assigned numbers 0, 1, 2\n",
    "n_clusters = len(sdss_primary['sdss_clean_class_name'].unique())\n",
    "\n",
    "# generate the model and get predictions, based on only redshift_log\n",
    "model = fit_kmeans(X_train, n_clusters)\n",
    "y_train_0_superclass_kmeans = model.predict(X_train)\n",
    "\n",
    "\n",
    "\"\"\"temp1 = pd.DataFrame(data=X_pca, columns=['PC1','PC2'])\n",
    "temp1.reset_index(drop=True, inplace=True)\n",
    "temp2 = y_train[[class_label_codes[0]]]\n",
    "temp2.reset_index(drop=True, inplace=True)\n",
    "pca_df = pd.concat([temp1, temp2], axis=1)\"\"\"\n",
    "\n",
    "# create a helper function to apply the model and evaluate accuracy\n",
    "def evaluate_cluster_accuracy(X, X_cols, y, n_clusters):\n",
    "    print(f\"\\t---{y_col}---\")\n",
    "    model = fit_kmeans(X_train, n_clusters)\n",
    "    y_pred = model.predict(X_train)\n",
    "    df_model1 = pd.DataFrame(data=X, columns=X_cols)\n",
    "    y_label = np.vectorize(class_code_map.get)(y)\n",
    "    print(y.shape)\n",
    "    print(type(y))\n",
    "    df_model2 = pd.DataFrame(data=y, columns=[y_col])\n",
    "    df_model2b = pd.DataFrame(data=y_label, columns=['actual label'])\n",
    "    df_model3 = pd.DataFrame(data=y_pred, columns=['prediction'])\n",
    "    y_pred_label = np.vectorize(class_code_map.get)(y_pred)\n",
    "    df_model3b = pd.DataFrame(data=y_pred_label, columns=['predicted labels'])\n",
    "    df_model = pd.concat([df_model1, df_model2, df_model2b, df_model3, df_model3b], axis=1)\n",
    "    display(df_model.sample(10))\n",
    "    \"\"\"for label in sdss_primary[y_col].unique().tolist():\n",
    "        print(f\"---- {label} ----\")\n",
    "        num_objects = len(sdss_primary[sdss_primary[y_col] == label])\n",
    "        for n in range(n_clusters):\n",
    "            num_matches = len(sdss_primary[(sdss_primary['sdss_clean_class_name'] == label) & (sdss_primary['superclass_k-means_cluster'] == n)])\n",
    "            print(f\"\\t% assigned to cluster {n}: {num_matches / num_objects}\")\"\"\"\n",
    "        \n",
    "# inspect clustering accuracy\n",
    "evaluate_cluster_accuracy(X_train, X_cols, y_train[class_code_maps[0]], 3)\n",
    "\n",
    "# print histogram of cluster counts\n",
    "\"\"\"counts = sdss_primary.groupby(['sdss_clean_class_name', 'superclass_k-means_cluster']).size().reset_index(name='count')\n",
    "pivot_table = counts.pivot_table(index='superclass_k-means_cluster', columns='sdss_clean_class_name', values='count', fill_value=0)\n",
    "sns.set(rc={'figure.figsize':(6,3)})\n",
    "ax = pivot_table.plot(kind='bar', stacked=True, colormap='viridis')\n",
    "ax.legend(title='k-means cluster', loc='upper right')\"\"\"\n",
    "\n",
    "# "
   ]
  },
  {
   "cell_type": "code",
   "execution_count": null,
   "metadata": {},
   "outputs": [],
   "source": []
  },
  {
   "cell_type": "code",
   "execution_count": null,
   "metadata": {},
   "outputs": [],
   "source": []
  },
  {
   "cell_type": "code",
   "execution_count": null,
   "metadata": {},
   "outputs": [],
   "source": []
  },
  {
   "cell_type": "code",
   "execution_count": null,
   "metadata": {},
   "outputs": [],
   "source": []
  },
  {
   "cell_type": "code",
   "execution_count": null,
   "metadata": {},
   "outputs": [],
   "source": []
  },
  {
   "cell_type": "code",
   "execution_count": null,
   "metadata": {},
   "outputs": [],
   "source": [
    "# CONCLUSION: THE ACCURACY IS MUCH HIGHER IF I ONLY INCLUDE REDSHIFT_LOG, AS OPPOSED TO INCLUDING REDSHIFT_LOG + ALL THE PHOTOMETRIC FEATURES\n",
    "# NEXT STEPS:  1) TRY FINE-TUNING THE MODEL HYPERPARAMETERS, 2) TRY TO REGULARIZE THE MODEL;  3) IF ALL ELSE FAILS, I CAN DO PCA PRIOR TO THE MODELING TO DIMINISH THE IMPORTANCE OF THE PHOTOMETRIC VARIABLES\n",
    "# FINAL STEPS: MAKE PRETTY PLOTS AND TABLES TO SUMMARIZE"
   ]
  }
 ],
 "metadata": {
  "kernelspec": {
   "display_name": "v_207a",
   "language": "python",
   "name": "python3"
  },
  "language_info": {
   "codemirror_mode": {
    "name": "ipython",
    "version": 3
   },
   "file_extension": ".py",
   "mimetype": "text/x-python",
   "name": "python",
   "nbconvert_exporter": "python",
   "pygments_lexer": "ipython3",
   "version": "3.10.12"
  }
 },
 "nbformat": 4,
 "nbformat_minor": 2
}
