{
 "cells": [
  {
   "cell_type": "code",
   "execution_count": 25,
   "metadata": {},
   "outputs": [],
   "source": [
    "import pandas as pd\n",
    "from sklearn.model_selection import train_test_split\n",
    "from sklearn.ensemble import RandomForestClassifier\n",
    "from sklearn.preprocessing import StandardScaler\n",
    "from sklearn.metrics import classification_report, accuracy_score, roc_curve\n",
    "from sklearn.neighbors import KNeighborsClassifier\n",
    "from sklearn.linear_model import LogisticRegression\n",
    "import matplotlib.pyplot as plt"
   ]
  },
  {
   "cell_type": "code",
   "execution_count": 10,
   "metadata": {},
   "outputs": [
    {
     "name": "stderr",
     "output_type": "stream",
     "text": [
      "/var/folders/w9/dx4nvr3j01s9jp6j1fm286vc0000gn/T/ipykernel_36793/649618218.py:1: DtypeWarning: Columns (21,22) have mixed types. Specify dtype option on import or set low_memory=False.\n",
      "  df = pd.read_csv('/Users/ahmadallaou/Documents/UCB Repos/datasci207_project/data/raw/skyserver_sdss/dr16_galaxySpecPhoto.csv')\n"
     ]
    }
   ],
   "source": [
    "df = pd.read_csv('/Users/ahmadallaou/Documents/UCB Repos/datasci207_project/data/raw/skyserver_sdss/dr16_galaxySpecPhoto.csv')"
   ]
  },
  {
   "cell_type": "code",
   "execution_count": 11,
   "metadata": {},
   "outputs": [
    {
     "data": {
      "text/plain": [
       "Index(['specobjid', 'dr8objid', 'dr7objid', 'ra', 'dec', 'nvote_tot',\n",
       "       'nvote_std', 'nvote_mr1', 'nvote_mr2', 'nvote_mon', 'p_el', 'p_cw',\n",
       "       'p_acw', 'p_edge', 'p_dk', 'p_mg', 'p_cs', 'instrument', 'redshift',\n",
       "       'sdss_class_string', 'sdss_subclass_string', 'class_noqso',\n",
       "       'subClass_noqso', 'spectroFlux_u', 'spectroFlux_g', 'spectroFlux_r',\n",
       "       'spectroFlux_i', 'spectroFlux_z', 'spectroSynFlux_u',\n",
       "       'spectroSynFlux_g', 'spectroSynFlux_r', 'spectroSynFlux_i',\n",
       "       'spectroSynFlux_z', 'elodieObject', 'elodieSpType', 'elodieBV',\n",
       "       'elodieTEff', 'elodieLogG', 'elodieFeH', 'elodieZ', 'sdss_class_number',\n",
       "       'clean', 'u', 'g', 'r', 'i', 'z', 'nObserve', 'nDetect', 'nEdge',\n",
       "       'score'],\n",
       "      dtype='object')"
      ]
     },
     "execution_count": 11,
     "metadata": {},
     "output_type": "execute_result"
    }
   ],
   "source": [
    "df.columns"
   ]
  },
  {
   "cell_type": "code",
   "execution_count": 12,
   "metadata": {},
   "outputs": [],
   "source": [
    "features = ['u','g','r','i','z','redshift','ra','dec']"
   ]
  },
  {
   "cell_type": "code",
   "execution_count": 13,
   "metadata": {},
   "outputs": [],
   "source": [
    "label = ['sdss_class_string']"
   ]
  },
  {
   "cell_type": "code",
   "execution_count": 14,
   "metadata": {},
   "outputs": [
    {
     "data": {
      "text/plain": [
       "GALAXY    786076\n",
       "STAR        7328\n",
       "QSO         7223\n",
       "Name: sdss_class_string, dtype: int64"
      ]
     },
     "execution_count": 14,
     "metadata": {},
     "output_type": "execute_result"
    }
   ],
   "source": [
    "df['sdss_class_string'].value_counts()"
   ]
  },
  {
   "cell_type": "code",
   "execution_count": 15,
   "metadata": {},
   "outputs": [
    {
     "name": "stderr",
     "output_type": "stream",
     "text": [
      "/var/folders/w9/dx4nvr3j01s9jp6j1fm286vc0000gn/T/ipykernel_36793/2050606733.py:17: DataConversionWarning: A column-vector y was passed when a 1d array was expected. Please change the shape of y to (n_samples,), for example using ravel().\n",
      "  clf.fit(X_train, y_train)\n"
     ]
    },
    {
     "name": "stdout",
     "output_type": "stream",
     "text": [
      "0.9931886972342614\n",
      "              precision    recall  f1-score   support\n",
      "\n",
      "      GALAXY       0.99      1.00      1.00    235824\n",
      "         QSO       0.90      0.33      0.49      2167\n",
      "        STAR       0.98      0.97      0.97      2198\n",
      "\n",
      "    accuracy                           0.99    240189\n",
      "   macro avg       0.96      0.77      0.82    240189\n",
      "weighted avg       0.99      0.99      0.99    240189\n",
      "\n"
     ]
    }
   ],
   "source": [
    "X = df[features]\n",
    "y = df[label]\n",
    "\n",
    "X_train, X_test, y_train, y_test = train_test_split(X, y, test_size=0.3, stratify=y, random_state=42)\n",
    "\n",
    "scaler = StandardScaler()\n",
    "X_train = scaler.fit_transform(X_train)\n",
    "X_test = scaler.transform(X_test)\n",
    "\n",
    "clf = RandomForestClassifier(n_estimators=100, random_state=42)\n",
    "\n",
    "clf.fit(X_train, y_train)\n",
    "\n",
    "y_pred = clf.predict(X_test)\n",
    "\n",
    "accuracy = accuracy_score(y_test, y_pred)\n",
    "class_report = classification_report(y_test, y_pred)"
   ]
  },
  {
   "cell_type": "code",
   "execution_count": null,
   "metadata": {},
   "outputs": [],
   "source": [
    "print(accuracy)\n",
    "print(class_report)"
   ]
  },
  {
   "cell_type": "code",
   "execution_count": 23,
   "metadata": {},
   "outputs": [
    {
     "name": "stderr",
     "output_type": "stream",
     "text": [
      "/Users/ahmadallaou/opt/anaconda3/lib/python3.9/site-packages/sklearn/neighbors/_classification.py:198: DataConversionWarning: A column-vector y was passed when a 1d array was expected. Please change the shape of y to (n_samples,), for example using ravel().\n",
      "  return self._fit(X, y)\n",
      "/Users/ahmadallaou/opt/anaconda3/lib/python3.9/site-packages/sklearn/neighbors/_classification.py:228: FutureWarning: Unlike other reduction functions (e.g. `skew`, `kurtosis`), the default behavior of `mode` typically preserves the axis it acts along. In SciPy 1.11.0, this behavior will change: the default value of `keepdims` will become False, the `axis` over which the statistic is taken will be eliminated, and the value None will no longer be accepted. Set `keepdims` to True or False to avoid this warning.\n",
      "  mode, _ = stats.mode(_y[neigh_ind, k], axis=1)\n"
     ]
    }
   ],
   "source": [
    "knn = KNeighborsClassifier(n_neighbors=5)\n",
    "knn.fit(X_train, y_train)\n",
    "\n",
    "y_pred_knn = knn.predict(X_test)\n",
    "\n",
    "accuracy_knn = accuracy_score(y_test, y_pred_knn)\n",
    "class_report_knn = classification_report(y_test, y_pred_knn)"
   ]
  },
  {
   "cell_type": "code",
   "execution_count": 24,
   "metadata": {},
   "outputs": [
    {
     "name": "stdout",
     "output_type": "stream",
     "text": [
      "0.9877971097760514\n",
      "              precision    recall  f1-score   support\n",
      "\n",
      "      GALAXY       0.99      1.00      0.99    235824\n",
      "         QSO       0.96      0.09      0.17      2167\n",
      "        STAR       0.77      0.82      0.79      2198\n",
      "\n",
      "    accuracy                           0.99    240189\n",
      "   macro avg       0.90      0.64      0.65    240189\n",
      "weighted avg       0.99      0.99      0.98    240189\n",
      "\n"
     ]
    }
   ],
   "source": [
    "print(accuracy_knn)\n",
    "print(class_report_knn)"
   ]
  },
  {
   "cell_type": "code",
   "execution_count": 26,
   "metadata": {},
   "outputs": [
    {
     "name": "stderr",
     "output_type": "stream",
     "text": [
      "/Users/ahmadallaou/opt/anaconda3/lib/python3.9/site-packages/sklearn/utils/validation.py:993: DataConversionWarning: A column-vector y was passed when a 1d array was expected. Please change the shape of y to (n_samples, ), for example using ravel().\n",
      "  y = column_or_1d(y, warn=True)\n"
     ]
    }
   ],
   "source": [
    "logreg = LogisticRegression(max_iter=10000, random_state=42)\n",
    "logreg.fit(X_train, y_train)\n",
    "\n",
    "y_pred_logreg = logreg.predict(X_test)\n",
    "\n",
    "accuracy_logreg = accuracy_score(y_test, y_pred_logreg)\n",
    "class_report_logreg = classification_report(y_test, y_pred_logreg)"
   ]
  },
  {
   "cell_type": "code",
   "execution_count": 27,
   "metadata": {},
   "outputs": [
    {
     "name": "stdout",
     "output_type": "stream",
     "text": [
      "0.9886297873757749\n",
      "              precision    recall  f1-score   support\n",
      "\n",
      "      GALAXY       0.99      1.00      0.99    235824\n",
      "         QSO       0.95      0.08      0.15      2167\n",
      "        STAR       0.78      0.93      0.85      2198\n",
      "\n",
      "    accuracy                           0.99    240189\n",
      "   macro avg       0.91      0.67      0.66    240189\n",
      "weighted avg       0.99      0.99      0.99    240189\n",
      "\n"
     ]
    }
   ],
   "source": [
    "print(accuracy_logreg)\n",
    "print(class_report_logreg)"
   ]
  },
  {
   "attachments": {},
   "cell_type": "markdown",
   "metadata": {},
   "source": [
    "# Classifying the Objects\n",
    "Using the SDSS dataset, we've trained a model that classifies an object using the features:\n",
    "-   U:\n",
    "-   G:\n",
    "-   R:\n",
    "-   I:\n",
    "-   Z:\n",
    "-   Redshift:\n",
    "-   ra:\n",
    "-   dec:\n",
    "\n",
    "to classify an object as either a galaxy, quasar or star. We have opted to use several models to classify these objects including (with their respective scores):\n",
    "-   RFC\n",
    "    -   Accuracy: 99.3%\n",
    "    -   Recall: \n",
    "        -   Galaxy: 100%\n",
    "        -   QSO: 33%\n",
    "        -   STAR: 97%\n",
    "    -   Precision:\n",
    "        -   Galaxy: 99%\n",
    "        -   QSO: 90%\n",
    "        -   STAR: 98%\n",
    "    -   F1 Score:\n",
    "        -   Galaxy: 100%\n",
    "        -   QSO: 49%\n",
    "        -   STAR: 97%\n",
    "<br></br>\n",
    "-   KNN\n",
    "    -   Accuracy: 98.8%\n",
    "    -   Recall: \n",
    "        -   Galaxy: 100%\n",
    "        -   QSO: 9%\n",
    "        -   STAR: 82%\n",
    "    -   Precision:\n",
    "        -   Galaxy: 99%\n",
    "        -   QSO: 96%\n",
    "        -   STAR: 77%\n",
    "    -   F1 Score:\n",
    "        -   Galaxy: 99%\n",
    "        -   QSO: 17%\n",
    "        -   STAR: 79%\n",
    "<br></br>\n",
    "-   Logistic Regression\n",
    "    -   Accuracy: 98.9%\n",
    "    -   Recall: \n",
    "        -   Galaxy: 100%\n",
    "        -   QSO: 8%\n",
    "        -   STAR: 93%\n",
    "    -   Precision:\n",
    "        -   Galaxy: 99%\n",
    "        -   QSO: 95%\n",
    "        -   STAR: 78%\n",
    "    -   F1 Score:\n",
    "        -   Galaxy: 99%\n",
    "        -   QSO: 15%\n",
    "        -   STAR: 85%\n",
    "\n"
   ]
  },
  {
   "cell_type": "code",
   "execution_count": null,
   "metadata": {},
   "outputs": [],
   "source": []
  }
 ],
 "metadata": {
  "kernelspec": {
   "display_name": "myenv",
   "language": "python",
   "name": "python3"
  },
  "language_info": {
   "codemirror_mode": {
    "name": "ipython",
    "version": 3
   },
   "file_extension": ".py",
   "mimetype": "text/x-python",
   "name": "python",
   "nbconvert_exporter": "python",
   "pygments_lexer": "ipython3",
   "version": "3.9.13"
  },
  "orig_nbformat": 4
 },
 "nbformat": 4,
 "nbformat_minor": 2
}
