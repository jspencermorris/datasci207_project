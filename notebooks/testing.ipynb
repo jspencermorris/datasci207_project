{
 "cells": [
  {
   "cell_type": "code",
   "execution_count": 66,
   "metadata": {},
   "outputs": [],
   "source": [
    "import pandas as pd\n",
    "from sklearn.model_selection import train_test_split\n",
    "from sklearn.ensemble import RandomForestClassifier\n",
    "from sklearn.preprocessing import StandardScaler\n",
    "from sklearn.metrics import classification_report, accuracy_score, roc_curve\n",
    "from sklearn.neighbors import KNeighborsClassifier\n",
    "from sklearn.linear_model import LogisticRegression\n",
    "import matplotlib.pyplot as plt\n",
    "from sklearn.decomposition import PCA\n",
    "from sklearn.preprocessing import StandardScaler\n",
    "from imblearn.over_sampling import SMOTE\n",
    "from sklearn.svm import SVC\n"
   ]
  },
  {
   "attachments": {},
   "cell_type": "markdown",
   "metadata": {},
   "source": [
    "## First 3 Models\n",
    "To get an idea of how well our data is, we will build 3 models on features we deemed important based on the literature attached to these datasets. These features include:\n",
    "-   U:\n",
    "-   G:\n",
    "-   R:\n",
    "-   I:\n",
    "-   Z:\n",
    "-   Redshift:\n",
    "-   ra:\n",
    "-   dec:\n",
    "\n",
    "\n",
    "We will train our model on 70% of the data and then test on 30%. The results of this model will indicate to us how we should proceed.\n"
   ]
  },
  {
   "cell_type": "code",
   "execution_count": 10,
   "metadata": {},
   "outputs": [
    {
     "name": "stderr",
     "output_type": "stream",
     "text": [
      "/var/folders/w9/dx4nvr3j01s9jp6j1fm286vc0000gn/T/ipykernel_36793/649618218.py:1: DtypeWarning: Columns (21,22) have mixed types. Specify dtype option on import or set low_memory=False.\n",
      "  df = pd.read_csv('/Users/ahmadallaou/Documents/UCB Repos/datasci207_project/data/raw/skyserver_sdss/dr16_galaxySpecPhoto.csv')\n"
     ]
    }
   ],
   "source": [
    "df = pd.read_csv('/Users/ahmadallaou/Documents/UCB Repos/datasci207_project/data/raw/skyserver_sdss/dr16_galaxySpecPhoto.csv')"
   ]
  },
  {
   "cell_type": "code",
   "execution_count": 11,
   "metadata": {},
   "outputs": [
    {
     "data": {
      "text/plain": [
       "Index(['specobjid', 'dr8objid', 'dr7objid', 'ra', 'dec', 'nvote_tot',\n",
       "       'nvote_std', 'nvote_mr1', 'nvote_mr2', 'nvote_mon', 'p_el', 'p_cw',\n",
       "       'p_acw', 'p_edge', 'p_dk', 'p_mg', 'p_cs', 'instrument', 'redshift',\n",
       "       'sdss_class_string', 'sdss_subclass_string', 'class_noqso',\n",
       "       'subClass_noqso', 'spectroFlux_u', 'spectroFlux_g', 'spectroFlux_r',\n",
       "       'spectroFlux_i', 'spectroFlux_z', 'spectroSynFlux_u',\n",
       "       'spectroSynFlux_g', 'spectroSynFlux_r', 'spectroSynFlux_i',\n",
       "       'spectroSynFlux_z', 'elodieObject', 'elodieSpType', 'elodieBV',\n",
       "       'elodieTEff', 'elodieLogG', 'elodieFeH', 'elodieZ', 'sdss_class_number',\n",
       "       'clean', 'u', 'g', 'r', 'i', 'z', 'nObserve', 'nDetect', 'nEdge',\n",
       "       'score'],\n",
       "      dtype='object')"
      ]
     },
     "execution_count": 11,
     "metadata": {},
     "output_type": "execute_result"
    }
   ],
   "source": [
    "df.columns"
   ]
  },
  {
   "cell_type": "code",
   "execution_count": 12,
   "metadata": {},
   "outputs": [],
   "source": [
    "features = ['u','g','r','i','z','redshift','ra','dec']"
   ]
  },
  {
   "cell_type": "code",
   "execution_count": 13,
   "metadata": {},
   "outputs": [],
   "source": [
    "label = ['sdss_class_string']"
   ]
  },
  {
   "cell_type": "code",
   "execution_count": 14,
   "metadata": {},
   "outputs": [
    {
     "data": {
      "text/plain": [
       "GALAXY    786076\n",
       "STAR        7328\n",
       "QSO         7223\n",
       "Name: sdss_class_string, dtype: int64"
      ]
     },
     "execution_count": 14,
     "metadata": {},
     "output_type": "execute_result"
    }
   ],
   "source": [
    "df['sdss_class_string'].value_counts()"
   ]
  },
  {
   "cell_type": "code",
   "execution_count": 15,
   "metadata": {},
   "outputs": [
    {
     "name": "stderr",
     "output_type": "stream",
     "text": [
      "/var/folders/w9/dx4nvr3j01s9jp6j1fm286vc0000gn/T/ipykernel_36793/2050606733.py:17: DataConversionWarning: A column-vector y was passed when a 1d array was expected. Please change the shape of y to (n_samples,), for example using ravel().\n",
      "  clf.fit(X_train, y_train)\n"
     ]
    },
    {
     "name": "stdout",
     "output_type": "stream",
     "text": [
      "0.9931886972342614\n",
      "              precision    recall  f1-score   support\n",
      "\n",
      "      GALAXY       0.99      1.00      1.00    235824\n",
      "         QSO       0.90      0.33      0.49      2167\n",
      "        STAR       0.98      0.97      0.97      2198\n",
      "\n",
      "    accuracy                           0.99    240189\n",
      "   macro avg       0.96      0.77      0.82    240189\n",
      "weighted avg       0.99      0.99      0.99    240189\n",
      "\n"
     ]
    }
   ],
   "source": [
    "X = df[features]\n",
    "y = df[label]\n",
    "\n",
    "X_train, X_test, y_train, y_test = train_test_split(X, y, test_size=0.3, stratify=y, random_state=42)\n",
    "\n",
    "scaler = StandardScaler()\n",
    "X_train = scaler.fit_transform(X_train)\n",
    "X_test = scaler.transform(X_test)\n",
    "\n",
    "clf = RandomForestClassifier(n_estimators=100, random_state=42)\n",
    "\n",
    "clf.fit(X_train, y_train)\n",
    "\n",
    "y_pred = clf.predict(X_test)\n",
    "\n",
    "accuracy = accuracy_score(y_test, y_pred)\n",
    "class_report = classification_report(y_test, y_pred)"
   ]
  },
  {
   "cell_type": "code",
   "execution_count": null,
   "metadata": {},
   "outputs": [],
   "source": [
    "print(accuracy)\n",
    "print(class_report)"
   ]
  },
  {
   "cell_type": "code",
   "execution_count": 23,
   "metadata": {},
   "outputs": [
    {
     "name": "stderr",
     "output_type": "stream",
     "text": [
      "/Users/ahmadallaou/opt/anaconda3/lib/python3.9/site-packages/sklearn/neighbors/_classification.py:198: DataConversionWarning: A column-vector y was passed when a 1d array was expected. Please change the shape of y to (n_samples,), for example using ravel().\n",
      "  return self._fit(X, y)\n",
      "/Users/ahmadallaou/opt/anaconda3/lib/python3.9/site-packages/sklearn/neighbors/_classification.py:228: FutureWarning: Unlike other reduction functions (e.g. `skew`, `kurtosis`), the default behavior of `mode` typically preserves the axis it acts along. In SciPy 1.11.0, this behavior will change: the default value of `keepdims` will become False, the `axis` over which the statistic is taken will be eliminated, and the value None will no longer be accepted. Set `keepdims` to True or False to avoid this warning.\n",
      "  mode, _ = stats.mode(_y[neigh_ind, k], axis=1)\n"
     ]
    }
   ],
   "source": [
    "knn = KNeighborsClassifier(n_neighbors=5)\n",
    "knn.fit(X_train, y_train)\n",
    "\n",
    "y_pred_knn = knn.predict(X_test)\n",
    "\n",
    "accuracy_knn = accuracy_score(y_test, y_pred_knn)\n",
    "class_report_knn = classification_report(y_test, y_pred_knn)"
   ]
  },
  {
   "cell_type": "code",
   "execution_count": 24,
   "metadata": {},
   "outputs": [
    {
     "name": "stdout",
     "output_type": "stream",
     "text": [
      "0.9877971097760514\n",
      "              precision    recall  f1-score   support\n",
      "\n",
      "      GALAXY       0.99      1.00      0.99    235824\n",
      "         QSO       0.96      0.09      0.17      2167\n",
      "        STAR       0.77      0.82      0.79      2198\n",
      "\n",
      "    accuracy                           0.99    240189\n",
      "   macro avg       0.90      0.64      0.65    240189\n",
      "weighted avg       0.99      0.99      0.98    240189\n",
      "\n"
     ]
    }
   ],
   "source": [
    "print(accuracy_knn)\n",
    "print(class_report_knn)"
   ]
  },
  {
   "cell_type": "code",
   "execution_count": 26,
   "metadata": {},
   "outputs": [
    {
     "name": "stderr",
     "output_type": "stream",
     "text": [
      "/Users/ahmadallaou/opt/anaconda3/lib/python3.9/site-packages/sklearn/utils/validation.py:993: DataConversionWarning: A column-vector y was passed when a 1d array was expected. Please change the shape of y to (n_samples, ), for example using ravel().\n",
      "  y = column_or_1d(y, warn=True)\n"
     ]
    }
   ],
   "source": [
    "logreg = LogisticRegression(max_iter=10000, random_state=42)\n",
    "logreg.fit(X_train, y_train)\n",
    "\n",
    "y_pred_logreg = logreg.predict(X_test)\n",
    "\n",
    "accuracy_logreg = accuracy_score(y_test, y_pred_logreg)\n",
    "class_report_logreg = classification_report(y_test, y_pred_logreg)"
   ]
  },
  {
   "cell_type": "code",
   "execution_count": 27,
   "metadata": {},
   "outputs": [
    {
     "name": "stdout",
     "output_type": "stream",
     "text": [
      "0.9886297873757749\n",
      "              precision    recall  f1-score   support\n",
      "\n",
      "      GALAXY       0.99      1.00      0.99    235824\n",
      "         QSO       0.95      0.08      0.15      2167\n",
      "        STAR       0.78      0.93      0.85      2198\n",
      "\n",
      "    accuracy                           0.99    240189\n",
      "   macro avg       0.91      0.67      0.66    240189\n",
      "weighted avg       0.99      0.99      0.99    240189\n",
      "\n"
     ]
    }
   ],
   "source": [
    "print(accuracy_logreg)\n",
    "print(class_report_logreg)"
   ]
  },
  {
   "attachments": {},
   "cell_type": "markdown",
   "metadata": {},
   "source": [
    "# Classifying the Objects\n",
    "Using the SDSS dataset, we've trained a model to classify an object as either a galaxy, quasar or star. We have opted to use several models to classify these objects including (with their respective scores):\n",
    "-   RFC\n",
    "    -   Accuracy: 99.3%\n",
    "    -   Recall: \n",
    "        -   Galaxy: 100%\n",
    "        -   QSO: 33%\n",
    "        -   STAR: 97%\n",
    "    -   Precision:\n",
    "        -   Galaxy: 99%\n",
    "        -   QSO: 90%\n",
    "        -   STAR: 98%\n",
    "    -   F1 Score:\n",
    "        -   Galaxy: 100%\n",
    "        -   QSO: 49%\n",
    "        -   STAR: 97%\n",
    "<br></br>\n",
    "-   KNN\n",
    "    -   Accuracy: 98.8%\n",
    "    -   Recall: \n",
    "        -   Galaxy: 100%\n",
    "        -   QSO: 9%\n",
    "        -   STAR: 82%\n",
    "    -   Precision:\n",
    "        -   Galaxy: 99%\n",
    "        -   QSO: 96%\n",
    "        -   STAR: 77%\n",
    "    -   F1 Score:\n",
    "        -   Galaxy: 99%\n",
    "        -   QSO: 17%\n",
    "        -   STAR: 79%\n",
    "<br></br>\n",
    "-   Logistic Regression\n",
    "    -   Accuracy: 98.9%\n",
    "    -   Recall: \n",
    "        -   Galaxy: 100%\n",
    "        -   QSO: 8%\n",
    "        -   STAR: 93%\n",
    "    -   Precision:\n",
    "        -   Galaxy: 99%\n",
    "        -   QSO: 95%\n",
    "        -   STAR: 78%\n",
    "    -   F1 Score:\n",
    "        -   Galaxy: 99%\n",
    "        -   QSO: 15%\n",
    "        -   STAR: 85%\n",
    "\n"
   ]
  },
  {
   "attachments": {},
   "cell_type": "markdown",
   "metadata": {},
   "source": [
    "## Interpreting the Results\n",
    "The accuracy results are phenomenal, however this can be an indication of overfitting. In fact, our recall scores and f1 scores for the Quasar and star objects seem to be quite low in comparison to the galaxy class. This may be due to the fact that our data is imbalanced so we will account for that with various techniques such as SMOTE or randomly selecting the same number of each class during the training. We will also evaluate if PCA might make our model perform better, however this might not be the case since generally an object can realistically be classified just on the redshift feature, since the distance between each of the objects is quite clear based on the literature. We will apply some transformations and perform some EDA and clean the data in the following notebooks:\n",
    "-   jsm_eda_00.ipynb\n",
    "-   jsm_eda_01.ipynb\n",
    "-   jsm_eda_02.ipynb\n",
    "-   jsm_eda_03.ipynb"
   ]
  },
  {
   "cell_type": "code",
   "execution_count": 11,
   "metadata": {},
   "outputs": [
    {
     "name": "stderr",
     "output_type": "stream",
     "text": [
      "/var/folders/w9/dx4nvr3j01s9jp6j1fm286vc0000gn/T/ipykernel_1993/822661678.py:19: DtypeWarning: Columns (7,8,9,10,11,12,13,14,15,16,17,18,19,20,21,22,23,24,25,26,27,28,29,30,31,32,33,34,35,36,37,38,39,40,41,42,43,44,45,46) have mixed types. Specify dtype option on import or set low_memory=False.\n",
      "  sdss_primary = pd.read_csv('../data/processed/sdss_primary.csv', header=0, dtype=col_dtypes)\n"
     ]
    }
   ],
   "source": [
    "sdss_headers = pd.read_csv('../data/processed/sdss_primary.csv', header=0, index_col=0, nrows=0).columns.tolist()\n",
    "\n",
    "# specify groups of primary columns\n",
    "object_identifiers = ['dr8objid']\n",
    "galaxy_identifiers = ['gz2_filenumber']\n",
    "object_locations = ['ra', 'dec']\n",
    "object_class_labels = ['sdss_clean_class_name']\n",
    "star_class_labels = ['stellar_subclass_MK']\n",
    "galaxy_class_labels =['gz2_subclass_hubble']\n",
    "galaxy_binary_labels = [label for label in sdss_headers if 'flag' in label]\n",
    "object_features = ['redshift_final', 'sum_p', 'u-r_p', 'g-i_p', 'r-z_p']\n",
    "star_features = ['elodie_color_index', 'elodie_temperature', 'elodie_metallicity']\n",
    "# consider adding galaxy features:  ratio of petro_radius to petro_brightness\n",
    "\n",
    "# create a datatype dictionary for object_identifiers\n",
    "col_dtypes = {col: 'string' for col in object_identifiers + galaxy_identifiers}\n",
    "\n",
    "# load full consolidated sdss dataset\n",
    "sdss_primary = pd.read_csv('../data/processed/sdss_primary.csv', header=0, dtype=col_dtypes)"
   ]
  },
  {
   "cell_type": "code",
   "execution_count": 12,
   "metadata": {},
   "outputs": [
    {
     "data": {
      "text/html": [
       "<div>\n",
       "<style scoped>\n",
       "    .dataframe tbody tr th:only-of-type {\n",
       "        vertical-align: middle;\n",
       "    }\n",
       "\n",
       "    .dataframe tbody tr th {\n",
       "        vertical-align: top;\n",
       "    }\n",
       "\n",
       "    .dataframe thead th {\n",
       "        text-align: right;\n",
       "    }\n",
       "</style>\n",
       "<table border=\"1\" class=\"dataframe\">\n",
       "  <thead>\n",
       "    <tr style=\"text-align: right;\">\n",
       "      <th></th>\n",
       "      <th>dr8objid</th>\n",
       "      <th>gz2_filenumber</th>\n",
       "      <th>ra</th>\n",
       "      <th>dec</th>\n",
       "      <th>sdss_clean_class_name</th>\n",
       "      <th>stellar_subclass_MK</th>\n",
       "      <th>gz2_subclass_hubble</th>\n",
       "      <th>gz1_flag_spiral</th>\n",
       "      <th>gz1_flag_elliptical</th>\n",
       "      <th>gz1_flag_uncertain</th>\n",
       "      <th>...</th>\n",
       "      <th>gz2_flag_arms_many</th>\n",
       "      <th>gz2_flag_arms_unsure</th>\n",
       "      <th>redshift_final</th>\n",
       "      <th>sum_p</th>\n",
       "      <th>u-r_p</th>\n",
       "      <th>g-i_p</th>\n",
       "      <th>r-z_p</th>\n",
       "      <th>elodie_color_index</th>\n",
       "      <th>elodie_temperature</th>\n",
       "      <th>elodie_metallicity</th>\n",
       "    </tr>\n",
       "  </thead>\n",
       "  <tbody>\n",
       "    <tr>\n",
       "      <th>0</th>\n",
       "      <td>1237651252584448100</td>\n",
       "      <td>192933</td>\n",
       "      <td>236.355530</td>\n",
       "      <td>54.820911</td>\n",
       "      <td>galaxy</td>\n",
       "      <td>unclassified</td>\n",
       "      <td>SBc</td>\n",
       "      <td>True</td>\n",
       "      <td>False</td>\n",
       "      <td>False</td>\n",
       "      <td>...</td>\n",
       "      <td>False</td>\n",
       "      <td>False</td>\n",
       "      <td>0.080127</td>\n",
       "      <td>85.88830</td>\n",
       "      <td>2.09786</td>\n",
       "      <td>1.09673</td>\n",
       "      <td>0.63014</td>\n",
       "      <td>NaN</td>\n",
       "      <td>NaN</td>\n",
       "      <td>NaN</td>\n",
       "    </tr>\n",
       "    <tr>\n",
       "      <th>1</th>\n",
       "      <td>1237651252584448112</td>\n",
       "      <td>&lt;NA&gt;</td>\n",
       "      <td>236.342000</td>\n",
       "      <td>54.802830</td>\n",
       "      <td>galaxy</td>\n",
       "      <td>unclassified</td>\n",
       "      <td>unclassified</td>\n",
       "      <td>False</td>\n",
       "      <td>False</td>\n",
       "      <td>True</td>\n",
       "      <td>...</td>\n",
       "      <td>NaN</td>\n",
       "      <td>NaN</td>\n",
       "      <td>0.193371</td>\n",
       "      <td>88.50900</td>\n",
       "      <td>2.39652</td>\n",
       "      <td>1.32288</td>\n",
       "      <td>0.71409</td>\n",
       "      <td>NaN</td>\n",
       "      <td>NaN</td>\n",
       "      <td>NaN</td>\n",
       "    </tr>\n",
       "    <tr>\n",
       "      <th>2</th>\n",
       "      <td>1237651252584251555</td>\n",
       "      <td>32264</td>\n",
       "      <td>235.891464</td>\n",
       "      <td>55.133472</td>\n",
       "      <td>galaxy</td>\n",
       "      <td>unclassified</td>\n",
       "      <td>SBc</td>\n",
       "      <td>True</td>\n",
       "      <td>False</td>\n",
       "      <td>False</td>\n",
       "      <td>...</td>\n",
       "      <td>False</td>\n",
       "      <td>False</td>\n",
       "      <td>0.040399</td>\n",
       "      <td>77.52239</td>\n",
       "      <td>2.37586</td>\n",
       "      <td>1.12715</td>\n",
       "      <td>0.67207</td>\n",
       "      <td>NaN</td>\n",
       "      <td>NaN</td>\n",
       "      <td>NaN</td>\n",
       "    </tr>\n",
       "    <tr>\n",
       "      <th>3</th>\n",
       "      <td>1237651252584317089</td>\n",
       "      <td>32265</td>\n",
       "      <td>236.063721</td>\n",
       "      <td>55.035847</td>\n",
       "      <td>galaxy</td>\n",
       "      <td>unclassified</td>\n",
       "      <td>Sc</td>\n",
       "      <td>False</td>\n",
       "      <td>False</td>\n",
       "      <td>True</td>\n",
       "      <td>...</td>\n",
       "      <td>False</td>\n",
       "      <td>False</td>\n",
       "      <td>0.048782</td>\n",
       "      <td>84.18209</td>\n",
       "      <td>1.77608</td>\n",
       "      <td>0.65633</td>\n",
       "      <td>0.23047</td>\n",
       "      <td>NaN</td>\n",
       "      <td>NaN</td>\n",
       "      <td>NaN</td>\n",
       "    </tr>\n",
       "    <tr>\n",
       "      <th>4</th>\n",
       "      <td>1237655130907213985</td>\n",
       "      <td>&lt;NA&gt;</td>\n",
       "      <td>236.150100</td>\n",
       "      <td>54.775720</td>\n",
       "      <td>galaxy</td>\n",
       "      <td>unclassified</td>\n",
       "      <td>unclassified</td>\n",
       "      <td>False</td>\n",
       "      <td>False</td>\n",
       "      <td>True</td>\n",
       "      <td>...</td>\n",
       "      <td>NaN</td>\n",
       "      <td>NaN</td>\n",
       "      <td>0.066882</td>\n",
       "      <td>89.05857</td>\n",
       "      <td>1.44878</td>\n",
       "      <td>0.69195</td>\n",
       "      <td>0.46791</td>\n",
       "      <td>NaN</td>\n",
       "      <td>NaN</td>\n",
       "      <td>NaN</td>\n",
       "    </tr>\n",
       "    <tr>\n",
       "      <th>...</th>\n",
       "      <td>...</td>\n",
       "      <td>...</td>\n",
       "      <td>...</td>\n",
       "      <td>...</td>\n",
       "      <td>...</td>\n",
       "      <td>...</td>\n",
       "      <td>...</td>\n",
       "      <td>...</td>\n",
       "      <td>...</td>\n",
       "      <td>...</td>\n",
       "      <td>...</td>\n",
       "      <td>...</td>\n",
       "      <td>...</td>\n",
       "      <td>...</td>\n",
       "      <td>...</td>\n",
       "      <td>...</td>\n",
       "      <td>...</td>\n",
       "      <td>...</td>\n",
       "      <td>...</td>\n",
       "      <td>...</td>\n",
       "      <td>...</td>\n",
       "    </tr>\n",
       "    <tr>\n",
       "      <th>1089268</th>\n",
       "      <td>1237658613059485785</td>\n",
       "      <td>&lt;NA&gt;</td>\n",
       "      <td>186.049290</td>\n",
       "      <td>50.066218</td>\n",
       "      <td>quasar</td>\n",
       "      <td>unclassified</td>\n",
       "      <td>unclassified</td>\n",
       "      <td>NaN</td>\n",
       "      <td>NaN</td>\n",
       "      <td>NaN</td>\n",
       "      <td>...</td>\n",
       "      <td>NaN</td>\n",
       "      <td>NaN</td>\n",
       "      <td>0.936257</td>\n",
       "      <td>109.67462</td>\n",
       "      <td>1.22945</td>\n",
       "      <td>0.15501</td>\n",
       "      <td>0.45143</td>\n",
       "      <td>0.000</td>\n",
       "      <td>0.0</td>\n",
       "      <td>0.00</td>\n",
       "    </tr>\n",
       "    <tr>\n",
       "      <th>1089269</th>\n",
       "      <td>1237658613059551315</td>\n",
       "      <td>&lt;NA&gt;</td>\n",
       "      <td>186.294360</td>\n",
       "      <td>50.072488</td>\n",
       "      <td>star</td>\n",
       "      <td>unclassified</td>\n",
       "      <td>unclassified</td>\n",
       "      <td>NaN</td>\n",
       "      <td>NaN</td>\n",
       "      <td>NaN</td>\n",
       "      <td>...</td>\n",
       "      <td>NaN</td>\n",
       "      <td>NaN</td>\n",
       "      <td>-0.000493</td>\n",
       "      <td>83.65337</td>\n",
       "      <td>1.30389</td>\n",
       "      <td>0.55497</td>\n",
       "      <td>0.18686</td>\n",
       "      <td>-0.199</td>\n",
       "      <td>9899.0</td>\n",
       "      <td>0.09</td>\n",
       "    </tr>\n",
       "    <tr>\n",
       "      <th>1089270</th>\n",
       "      <td>1237658613593866399</td>\n",
       "      <td>&lt;NA&gt;</td>\n",
       "      <td>176.965730</td>\n",
       "      <td>50.196095</td>\n",
       "      <td>quasar</td>\n",
       "      <td>unclassified</td>\n",
       "      <td>unclassified</td>\n",
       "      <td>NaN</td>\n",
       "      <td>NaN</td>\n",
       "      <td>NaN</td>\n",
       "      <td>...</td>\n",
       "      <td>NaN</td>\n",
       "      <td>NaN</td>\n",
       "      <td>1.325296</td>\n",
       "      <td>102.50690</td>\n",
       "      <td>0.67220</td>\n",
       "      <td>0.42938</td>\n",
       "      <td>0.26503</td>\n",
       "      <td>0.000</td>\n",
       "      <td>0.0</td>\n",
       "      <td>0.00</td>\n",
       "    </tr>\n",
       "    <tr>\n",
       "      <th>1089271</th>\n",
       "      <td>1237658613593997533</td>\n",
       "      <td>&lt;NA&gt;</td>\n",
       "      <td>177.500070</td>\n",
       "      <td>50.211641</td>\n",
       "      <td>quasar</td>\n",
       "      <td>unclassified</td>\n",
       "      <td>unclassified</td>\n",
       "      <td>NaN</td>\n",
       "      <td>NaN</td>\n",
       "      <td>NaN</td>\n",
       "      <td>...</td>\n",
       "      <td>NaN</td>\n",
       "      <td>NaN</td>\n",
       "      <td>1.076416</td>\n",
       "      <td>108.06205</td>\n",
       "      <td>0.25209</td>\n",
       "      <td>0.30271</td>\n",
       "      <td>0.49985</td>\n",
       "      <td>0.000</td>\n",
       "      <td>0.0</td>\n",
       "      <td>0.00</td>\n",
       "    </tr>\n",
       "    <tr>\n",
       "      <th>1089272</th>\n",
       "      <td>1237658613594063058</td>\n",
       "      <td>&lt;NA&gt;</td>\n",
       "      <td>177.796780</td>\n",
       "      <td>50.375821</td>\n",
       "      <td>quasar</td>\n",
       "      <td>unclassified</td>\n",
       "      <td>unclassified</td>\n",
       "      <td>NaN</td>\n",
       "      <td>NaN</td>\n",
       "      <td>NaN</td>\n",
       "      <td>...</td>\n",
       "      <td>NaN</td>\n",
       "      <td>NaN</td>\n",
       "      <td>1.856644</td>\n",
       "      <td>107.44989</td>\n",
       "      <td>0.43338</td>\n",
       "      <td>0.38276</td>\n",
       "      <td>0.49819</td>\n",
       "      <td>0.000</td>\n",
       "      <td>0.0</td>\n",
       "      <td>0.00</td>\n",
       "    </tr>\n",
       "  </tbody>\n",
       "</table>\n",
       "<p>1089273 rows × 55 columns</p>\n",
       "</div>"
      ],
      "text/plain": [
       "                    dr8objid gz2_filenumber          ra        dec  \\\n",
       "0        1237651252584448100         192933  236.355530  54.820911   \n",
       "1        1237651252584448112           <NA>  236.342000  54.802830   \n",
       "2        1237651252584251555          32264  235.891464  55.133472   \n",
       "3        1237651252584317089          32265  236.063721  55.035847   \n",
       "4        1237655130907213985           <NA>  236.150100  54.775720   \n",
       "...                      ...            ...         ...        ...   \n",
       "1089268  1237658613059485785           <NA>  186.049290  50.066218   \n",
       "1089269  1237658613059551315           <NA>  186.294360  50.072488   \n",
       "1089270  1237658613593866399           <NA>  176.965730  50.196095   \n",
       "1089271  1237658613593997533           <NA>  177.500070  50.211641   \n",
       "1089272  1237658613594063058           <NA>  177.796780  50.375821   \n",
       "\n",
       "        sdss_clean_class_name stellar_subclass_MK gz2_subclass_hubble  \\\n",
       "0                      galaxy        unclassified                 SBc   \n",
       "1                      galaxy        unclassified        unclassified   \n",
       "2                      galaxy        unclassified                 SBc   \n",
       "3                      galaxy        unclassified                  Sc   \n",
       "4                      galaxy        unclassified        unclassified   \n",
       "...                       ...                 ...                 ...   \n",
       "1089268                quasar        unclassified        unclassified   \n",
       "1089269                  star        unclassified        unclassified   \n",
       "1089270                quasar        unclassified        unclassified   \n",
       "1089271                quasar        unclassified        unclassified   \n",
       "1089272                quasar        unclassified        unclassified   \n",
       "\n",
       "        gz1_flag_spiral gz1_flag_elliptical gz1_flag_uncertain  ...  \\\n",
       "0                  True               False              False  ...   \n",
       "1                 False               False               True  ...   \n",
       "2                  True               False              False  ...   \n",
       "3                 False               False               True  ...   \n",
       "4                 False               False               True  ...   \n",
       "...                 ...                 ...                ...  ...   \n",
       "1089268             NaN                 NaN                NaN  ...   \n",
       "1089269             NaN                 NaN                NaN  ...   \n",
       "1089270             NaN                 NaN                NaN  ...   \n",
       "1089271             NaN                 NaN                NaN  ...   \n",
       "1089272             NaN                 NaN                NaN  ...   \n",
       "\n",
       "        gz2_flag_arms_many gz2_flag_arms_unsure redshift_final      sum_p  \\\n",
       "0                    False                False       0.080127   85.88830   \n",
       "1                      NaN                  NaN       0.193371   88.50900   \n",
       "2                    False                False       0.040399   77.52239   \n",
       "3                    False                False       0.048782   84.18209   \n",
       "4                      NaN                  NaN       0.066882   89.05857   \n",
       "...                    ...                  ...            ...        ...   \n",
       "1089268                NaN                  NaN       0.936257  109.67462   \n",
       "1089269                NaN                  NaN      -0.000493   83.65337   \n",
       "1089270                NaN                  NaN       1.325296  102.50690   \n",
       "1089271                NaN                  NaN       1.076416  108.06205   \n",
       "1089272                NaN                  NaN       1.856644  107.44989   \n",
       "\n",
       "           u-r_p    g-i_p    r-z_p elodie_color_index elodie_temperature  \\\n",
       "0        2.09786  1.09673  0.63014                NaN                NaN   \n",
       "1        2.39652  1.32288  0.71409                NaN                NaN   \n",
       "2        2.37586  1.12715  0.67207                NaN                NaN   \n",
       "3        1.77608  0.65633  0.23047                NaN                NaN   \n",
       "4        1.44878  0.69195  0.46791                NaN                NaN   \n",
       "...          ...      ...      ...                ...                ...   \n",
       "1089268  1.22945  0.15501  0.45143              0.000                0.0   \n",
       "1089269  1.30389  0.55497  0.18686             -0.199             9899.0   \n",
       "1089270  0.67220  0.42938  0.26503              0.000                0.0   \n",
       "1089271  0.25209  0.30271  0.49985              0.000                0.0   \n",
       "1089272  0.43338  0.38276  0.49819              0.000                0.0   \n",
       "\n",
       "        elodie_metallicity  \n",
       "0                      NaN  \n",
       "1                      NaN  \n",
       "2                      NaN  \n",
       "3                      NaN  \n",
       "4                      NaN  \n",
       "...                    ...  \n",
       "1089268               0.00  \n",
       "1089269               0.09  \n",
       "1089270               0.00  \n",
       "1089271               0.00  \n",
       "1089272               0.00  \n",
       "\n",
       "[1089273 rows x 55 columns]"
      ]
     },
     "execution_count": 12,
     "metadata": {},
     "output_type": "execute_result"
    }
   ],
   "source": [
    "sdss_primary"
   ]
  },
  {
   "cell_type": "code",
   "execution_count": 27,
   "metadata": {},
   "outputs": [],
   "source": [
    "x1 = sdss_primary[['dr8objid','redshift_final','sum_p','u-r_p','g-i_p','r-z_p']]\n",
    "y1 = sdss_primary[['sdss_clean_class_name']]"
   ]
  },
  {
   "cell_type": "code",
   "execution_count": 28,
   "metadata": {},
   "outputs": [
    {
     "name": "stderr",
     "output_type": "stream",
     "text": [
      "/Users/ahmadallaou/opt/anaconda3/lib/python3.9/site-packages/sklearn/utils/validation.py:964: FutureWarning: Arrays of bytes/strings is being converted to decimal numbers if dtype='numeric'. This behavior is deprecated in 0.24 and will be removed in 1.1 (renaming of 0.26). Please convert your data to numeric values explicitly instead.\n",
      "  X = check_array(\n"
     ]
    }
   ],
   "source": [
    "# Initialize SMOTE\n",
    "smote = SMOTE()\n",
    "\n",
    "# Apply SMOTE\n",
    "X_resampled, y_resampled = smote.fit_resample(x1, y1)"
   ]
  },
  {
   "cell_type": "code",
   "execution_count": 29,
   "metadata": {},
   "outputs": [
    {
     "data": {
      "text/plain": [
       "sdss_clean_class_name\n",
       "galaxy                   531099\n",
       "quasar                   531099\n",
       "star                     531099\n",
       "dtype: int64"
      ]
     },
     "execution_count": 29,
     "metadata": {},
     "output_type": "execute_result"
    }
   ],
   "source": [
    "y_resampled.value_counts()"
   ]
  },
  {
   "cell_type": "code",
   "execution_count": 35,
   "metadata": {},
   "outputs": [
    {
     "name": "stderr",
     "output_type": "stream",
     "text": [
      "/var/folders/w9/dx4nvr3j01s9jp6j1fm286vc0000gn/T/ipykernel_1993/1653946815.py:15: DataConversionWarning: A column-vector y was passed when a 1d array was expected. Please change the shape of y to (n_samples,), for example using ravel().\n",
      "  clf.fit(X_train, y_train)\n"
     ]
    }
   ],
   "source": [
    "X_train, X_test, y_train, y_test = train_test_split(X_resampled, y_resampled, test_size=0.3, stratify=y_resampled, random_state=42)\n",
    "\n",
    "id_train = X_train.drop('dr8objid',axis=1)\n",
    "id_test = X_test.drop('dr8objid',axis=1)\n",
    "\n",
    "X_train.drop('dr8objid',inplace=True,axis=1)\n",
    "X_test.drop('dr8objid',inplace=True,axis=1)\n",
    "\n",
    "scaler = StandardScaler()\n",
    "X_train = scaler.fit_transform(X_train)\n",
    "X_test = scaler.transform(X_test)\n",
    "\n",
    "clf2 = RandomForestClassifier(n_estimators=100, random_state=42)\n",
    "\n",
    "clf2.fit(X_train, y_train)\n",
    "\n",
    "y_pred = clf2.predict(X_test)\n",
    "\n",
    "accuracy = accuracy_score(y_test, y_pred)\n",
    "class_report = classification_report(y_test, y_pred)"
   ]
  },
  {
   "cell_type": "code",
   "execution_count": 39,
   "metadata": {},
   "outputs": [
    {
     "name": "stdout",
     "output_type": "stream",
     "text": [
      "Accuracy:  0.9997510408167535\n"
     ]
    }
   ],
   "source": [
    "print('Accuracy: ',accuracy)"
   ]
  },
  {
   "cell_type": "code",
   "execution_count": 40,
   "metadata": {},
   "outputs": [
    {
     "name": "stdout",
     "output_type": "stream",
     "text": [
      "              precision    recall  f1-score   support\n",
      "\n",
      "      galaxy       1.00      1.00      1.00    159330\n",
      "      quasar       1.00      1.00      1.00    159330\n",
      "        star       1.00      1.00      1.00    159330\n",
      "\n",
      "    accuracy                           1.00    477990\n",
      "   macro avg       1.00      1.00      1.00    477990\n",
      "weighted avg       1.00      1.00      1.00    477990\n",
      "\n"
     ]
    }
   ],
   "source": [
    "print(class_report)"
   ]
  },
  {
   "attachments": {},
   "cell_type": "markdown",
   "metadata": {},
   "source": [
    "## Extreme Overfitting\n",
    "By oversampling the data as much as it did, the model ended up learning the exact features of each class in the training set, and it was seeing the same rows in the test set, so while the model performed \"perfectly\" here, this would not be the case for new data since it seems there was some extreme overfitting in this model. Instead what we might do is limit the data to an equal number of each class (randomly sampled) and then train the model using that. "
   ]
  },
  {
   "cell_type": "code",
   "execution_count": 44,
   "metadata": {},
   "outputs": [],
   "source": [
    "under = sdss_primary.groupby('sdss_clean_class_name').apply(lambda x: x.sample(n=50000, replace=False,random_state=42))\n",
    "under = under.reset_index(drop=True)\n"
   ]
  },
  {
   "cell_type": "code",
   "execution_count": 46,
   "metadata": {},
   "outputs": [
    {
     "name": "stderr",
     "output_type": "stream",
     "text": [
      "/var/folders/w9/dx4nvr3j01s9jp6j1fm286vc0000gn/T/ipykernel_1993/2060985526.py:18: DataConversionWarning: A column-vector y was passed when a 1d array was expected. Please change the shape of y to (n_samples,), for example using ravel().\n",
      "  clf.fit(X_train, y_train)\n"
     ]
    }
   ],
   "source": [
    "x_under = under[['dr8objid','redshift_final','sum_p','u-r_p','g-i_p','r-z_p']]\n",
    "y_under =  under[['sdss_clean_class_name']]\n",
    "\n",
    "X_train, X_test, y_train, y_test = train_test_split(x_under, y_under, test_size=0.3, stratify=y_under, random_state=42)\n",
    "\n",
    "id_train = X_train.drop('dr8objid',axis=1)\n",
    "id_test = X_test.drop('dr8objid',axis=1)\n",
    "\n",
    "X_train.drop('dr8objid',inplace=True,axis=1)\n",
    "X_test.drop('dr8objid',inplace=True,axis=1)\n",
    "\n",
    "scaler = StandardScaler()\n",
    "X_train = scaler.fit_transform(X_train)\n",
    "X_test = scaler.transform(X_test)\n",
    "\n",
    "clf3 = RandomForestClassifier(n_estimators=100, random_state=42)\n",
    "\n",
    "clf3.fit(X_train, y_train)\n",
    "\n",
    "y_pred = clf3.predict(X_test)\n",
    "\n",
    "accuracy = accuracy_score(y_test, y_pred)\n",
    "class_report = classification_report(y_test, y_pred)"
   ]
  },
  {
   "cell_type": "code",
   "execution_count": 47,
   "metadata": {},
   "outputs": [
    {
     "name": "stdout",
     "output_type": "stream",
     "text": [
      "Accuracy:  0.9994888888888889\n",
      "              precision    recall  f1-score   support\n",
      "\n",
      "      galaxy       1.00      1.00      1.00     15000\n",
      "      quasar       1.00      1.00      1.00     15000\n",
      "        star       1.00      1.00      1.00     15000\n",
      "\n",
      "    accuracy                           1.00     45000\n",
      "   macro avg       1.00      1.00      1.00     45000\n",
      "weighted avg       1.00      1.00      1.00     45000\n",
      "\n"
     ]
    }
   ],
   "source": [
    "print('Accuracy: ',accuracy)\n",
    "print(class_report)"
   ]
  },
  {
   "attachments": {},
   "cell_type": "markdown",
   "metadata": {},
   "source": [
    "## Limited Data Trained\n",
    "We have now trained the model on the limited data (50,000 randomly sampled rows from each class) and it still seems like our results are perfect. To make ensure that these results are valid, we will operationalize the model on the remaining data points and ensure that it is predicting each class correct. \n",
    "\n",
    "**NOTE: A reason why the results might be so well is that generally an astronomer can classify an object simply on the redshift because the variance for redshift between each class is so great. This is because redshift is a measure of distance for the objects, and from the literature it is known that stars are the closest, then galaxies and then quasars, and each class is extremely further away than the next.**"
   ]
  },
  {
   "cell_type": "code",
   "execution_count": 50,
   "metadata": {},
   "outputs": [],
   "source": [
    "remaining = sdss_primary[~sdss_primary['dr8objid'].isin(under['dr8objid'])]"
   ]
  },
  {
   "cell_type": "code",
   "execution_count": 55,
   "metadata": {},
   "outputs": [],
   "source": [
    "test_50 = remaining.sample(n=50000,random_state=42)\n",
    "test_50_x = test_50[['redshift_final','sum_p','u-r_p','g-i_p','r-z_p']]\n",
    "test_50_label = test_50[['sdss_clean_class_name']]"
   ]
  },
  {
   "cell_type": "code",
   "execution_count": 56,
   "metadata": {},
   "outputs": [],
   "source": [
    "test_50_x = scaler.transform(test_50_x)\n",
    "y_50_pred = clf.predict(test_50_x)"
   ]
  },
  {
   "cell_type": "code",
   "execution_count": 57,
   "metadata": {},
   "outputs": [
    {
     "name": "stdout",
     "output_type": "stream",
     "text": [
      "0.9993\n",
      "              precision    recall  f1-score   support\n",
      "\n",
      "      galaxy       1.00      1.00      1.00     25738\n",
      "      quasar       1.00      1.00      1.00      7427\n",
      "        star       1.00      1.00      1.00     16835\n",
      "\n",
      "    accuracy                           1.00     50000\n",
      "   macro avg       1.00      1.00      1.00     50000\n",
      "weighted avg       1.00      1.00      1.00     50000\n",
      "\n"
     ]
    }
   ],
   "source": [
    "print(accuracy_score(test_50_label, y_50_pred))\n",
    "print(classification_report(test_50_label, y_50_pred))"
   ]
  },
  {
   "cell_type": "code",
   "execution_count": 58,
   "metadata": {},
   "outputs": [
    {
     "name": "stdout",
     "output_type": "stream",
     "text": [
      "0.9995006776517583\n",
      "              precision    recall  f1-score   support\n",
      "\n",
      "      galaxy       1.00      1.00      1.00    481099\n",
      "      quasar       1.00      1.00      1.00    139553\n",
      "        star       1.00      1.00      1.00    318621\n",
      "\n",
      "    accuracy                           1.00    939273\n",
      "   macro avg       1.00      1.00      1.00    939273\n",
      "weighted avg       1.00      1.00      1.00    939273\n",
      "\n"
     ]
    }
   ],
   "source": [
    "rem_label = remaining[['sdss_clean_class_name']]\n",
    "rem_pred = clf.predict(scaler.transform(remaining[['redshift_final','sum_p','u-r_p','g-i_p','r-z_p']]))\n",
    "print(accuracy_score(rem_label, rem_pred))\n",
    "print(classification_report(rem_label, rem_pred))"
   ]
  },
  {
   "attachments": {},
   "cell_type": "markdown",
   "metadata": {},
   "source": [
    "## Results from Inital Model\n",
    "Evidently, it seems like the model really is predicting the each class perfectly, likely due to how the redshift works. We will proceed to utilize an SVM model to evaluate the performances of models against each other. Following this, we will move onto the image classification."
   ]
  },
  {
   "cell_type": "code",
   "execution_count": 67,
   "metadata": {},
   "outputs": [],
   "source": [
    "X_train, X_test, y_train, y_test = train_test_split(x_under, y_under, test_size=0.3, stratify=y_under, random_state=42)\n",
    "\n",
    "id_train = X_train.drop('dr8objid',axis=1)\n",
    "id_test = X_test.drop('dr8objid',axis=1)\n",
    "\n",
    "X_train.drop('dr8objid',inplace=True,axis=1)\n",
    "X_test.drop('dr8objid',inplace=True,axis=1)\n",
    "\n",
    "scaler = StandardScaler()\n",
    "X_train = scaler.fit_transform(X_train)\n",
    "X_test = scaler.transform(X_test)"
   ]
  },
  {
   "cell_type": "code",
   "execution_count": 68,
   "metadata": {},
   "outputs": [
    {
     "name": "stderr",
     "output_type": "stream",
     "text": [
      "/Users/ahmadallaou/opt/anaconda3/lib/python3.9/site-packages/sklearn/utils/validation.py:993: DataConversionWarning: A column-vector y was passed when a 1d array was expected. Please change the shape of y to (n_samples, ), for example using ravel().\n",
      "  y = column_or_1d(y, warn=True)\n"
     ]
    }
   ],
   "source": [
    "svm_model = SVC()\n",
    "svm_model.fit(X_train, y_train)\n",
    "y_pred_svm = svm_model.predict(X_test)"
   ]
  },
  {
   "cell_type": "code",
   "execution_count": 69,
   "metadata": {},
   "outputs": [
    {
     "name": "stdout",
     "output_type": "stream",
     "text": [
      "0.9948444444444444\n",
      "              precision    recall  f1-score   support\n",
      "\n",
      "      galaxy       1.00      0.99      0.99     15000\n",
      "      quasar       1.00      1.00      1.00     15000\n",
      "        star       0.99      1.00      0.99     15000\n",
      "\n",
      "    accuracy                           0.99     45000\n",
      "   macro avg       0.99      0.99      0.99     45000\n",
      "weighted avg       0.99      0.99      0.99     45000\n",
      "\n"
     ]
    }
   ],
   "source": [
    "print(accuracy_score(y_test, y_pred_svm))\n",
    "print(classification_report(y_test, y_pred_svm))"
   ]
  },
  {
   "attachments": {},
   "cell_type": "markdown",
   "metadata": {},
   "source": [
    "## Exploring results using PCA for preprocessing\n",
    "Using the SVM we see the results are great, similar to our first model. We would now like to evaluate if we could maintain these results while reducing dimensionality via PCA. Our assumption is that the PCA will attribute its main component on the redshift since that has the greatest variance of any other variable and explains the biggest difference."
   ]
  },
  {
   "cell_type": "code",
   "execution_count": 72,
   "metadata": {},
   "outputs": [
    {
     "name": "stderr",
     "output_type": "stream",
     "text": [
      "/Users/ahmadallaou/opt/anaconda3/lib/python3.9/site-packages/sklearn/utils/validation.py:993: DataConversionWarning: A column-vector y was passed when a 1d array was expected. Please change the shape of y to (n_samples, ), for example using ravel().\n",
      "  y = column_or_1d(y, warn=True)\n"
     ]
    }
   ],
   "source": [
    "X_train, X_test, y_train, y_test = train_test_split(x_under, y_under, test_size=0.3, stratify=y_under, random_state=42)\n",
    "\n",
    "id_train = X_train.drop('dr8objid',axis=1)\n",
    "id_test = X_test.drop('dr8objid',axis=1)\n",
    "\n",
    "X_train.drop('dr8objid',inplace=True,axis=1)\n",
    "X_test.drop('dr8objid',inplace=True,axis=1)\n",
    "\n",
    "scaler = StandardScaler()\n",
    "pca = PCA(n_components=2)\n",
    "pc_train = pca.fit_transform(scaler.fit_transform(X_train))\n",
    "pc_test = pca.fit_transform(scaler.fit_transform(X_test))\n",
    "\n",
    "\n",
    "svm_model2 = SVC()\n",
    "svm_model2.fit(pc_train, y_train)\n",
    "y_pred_svm2 = svm_model2.predict(pc_test)"
   ]
  },
  {
   "cell_type": "code",
   "execution_count": 74,
   "metadata": {},
   "outputs": [
    {
     "name": "stdout",
     "output_type": "stream",
     "text": [
      "0.1834888888888889\n",
      "              precision    recall  f1-score   support\n",
      "\n",
      "      galaxy       0.00      0.00      0.00     15000\n",
      "      quasar       0.00      0.00      0.00     15000\n",
      "        star       0.68      0.55      0.61     15000\n",
      "\n",
      "    accuracy                           0.18     45000\n",
      "   macro avg       0.23      0.18      0.20     45000\n",
      "weighted avg       0.23      0.18      0.20     45000\n",
      "\n"
     ]
    }
   ],
   "source": [
    "print(accuracy_score(y_test, y_pred_svm2))\n",
    "print(classification_report(y_test, y_pred_svm2))"
   ]
  },
  {
   "attachments": {},
   "cell_type": "markdown",
   "metadata": {},
   "source": [
    "## PCA Results\n",
    "Using PCA to reduce dimensionality, the svm model was retrained on using the resulting features from the principal components. Based on the results, it seems the PCA failed to produce the same results the previous models produced, so we will opt to utilize the RFC model for our initial classification. Now that we have evaluated multiple models, and tested some preprocessing techniques we can move on to the image classification using the prediction classifications from our initial model"
   ]
  },
  {
   "cell_type": "code",
   "execution_count": 78,
   "metadata": {},
   "outputs": [
    {
     "name": "stderr",
     "output_type": "stream",
     "text": [
      "/var/folders/w9/dx4nvr3j01s9jp6j1fm286vc0000gn/T/ipykernel_1993/1361899693.py:1: SettingWithCopyWarning: \n",
      "A value is trying to be set on a copy of a slice from a DataFrame.\n",
      "Try using .loc[row_indexer,col_indexer] = value instead\n",
      "\n",
      "See the caveats in the documentation: https://pandas.pydata.org/pandas-docs/stable/user_guide/indexing.html#returning-a-view-versus-a-copy\n",
      "  remaining['pred_class'] = rem_pred\n"
     ]
    }
   ],
   "source": [
    "remaining['pred_class'] = rem_pred"
   ]
  },
  {
   "cell_type": "code",
   "execution_count": 81,
   "metadata": {},
   "outputs": [
    {
     "data": {
      "text/plain": [
       "0          galaxy\n",
       "1          galaxy\n",
       "3          galaxy\n",
       "4          galaxy\n",
       "5          galaxy\n",
       "            ...  \n",
       "1089266      star\n",
       "1089267      star\n",
       "1089269      star\n",
       "1089270    quasar\n",
       "1089271    quasar\n",
       "Name: pred_class, Length: 939273, dtype: object"
      ]
     },
     "execution_count": 81,
     "metadata": {},
     "output_type": "execute_result"
    }
   ],
   "source": [
    "remaining['pred_class']"
   ]
  },
  {
   "cell_type": "code",
   "execution_count": null,
   "metadata": {},
   "outputs": [],
   "source": []
  }
 ],
 "metadata": {
  "kernelspec": {
   "display_name": "myenv",
   "language": "python",
   "name": "python3"
  },
  "language_info": {
   "codemirror_mode": {
    "name": "ipython",
    "version": 3
   },
   "file_extension": ".py",
   "mimetype": "text/x-python",
   "name": "python",
   "nbconvert_exporter": "python",
   "pygments_lexer": "ipython3",
   "version": "3.9.13"
  },
  "orig_nbformat": 4
 },
 "nbformat": 4,
 "nbformat_minor": 2
}
